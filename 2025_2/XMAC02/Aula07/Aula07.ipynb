{
 "cells": [
  {
   "attachments": {},
   "cell_type": "markdown",
   "metadata": {},
   "source": [
    "## Distribuição de Poisson\n",
    "Vamos começar simulando  um caixa eletrônico que é procurado, em média, por 3,6 pessoas a cada 10 minutos."
   ]
  },
  {
   "cell_type": "code",
   "execution_count": 60,
   "metadata": {},
   "outputs": [],
   "source": [
    "import numpy as np\n",
    "import matplotlib.pyplot as plt\n",
    "import seaborn as sns\n",
    "from scipy.stats import poisson"
   ]
  },
  {
   "attachments": {},
   "cell_type": "markdown",
   "metadata": {},
   "source": [
    "Vamos iniciar aprendendo como gerar um número aleatório baseado na distribuição de Poisson, no caso a distribuição de probabilidade do nosso caixa eletrônico."
   ]
  },
  {
   "cell_type": "code",
   "execution_count": 61,
   "metadata": {},
   "outputs": [
    {
     "data": {
      "text/plain": [
       "3"
      ]
     },
     "execution_count": 61,
     "metadata": {},
     "output_type": "execute_result"
    }
   ],
   "source": [
    "np.random.poisson(3.6)"
   ]
  },
  {
   "attachments": {},
   "cell_type": "markdown",
   "metadata": {},
   "source": [
    "Podemos gerar n números aleatórios com base na distribuição de Poison. A seguir, vamos gerar 10 números aleatórios."
   ]
  },
  {
   "cell_type": "code",
   "execution_count": 62,
   "metadata": {},
   "outputs": [
    {
     "data": {
      "text/plain": [
       "array([3, 2, 3, 9, 7, 5, 4, 5, 3, 4])"
      ]
     },
     "execution_count": 62,
     "metadata": {},
     "output_type": "execute_result"
    }
   ],
   "source": [
    "np.random.poisson(3.6, 10)"
   ]
  },
  {
   "attachments": {},
   "cell_type": "markdown",
   "metadata": {},
   "source": [
    "Vamos agora gerar 1.000 números aleatórios e plotar um gráfico mostrando o resultado."
   ]
  },
  {
   "cell_type": "code",
   "execution_count": 63,
   "metadata": {},
   "outputs": [
    {
     "data": {
      "image/png": "[encoded data removed]",
      "text/plain": [
       "<Figure size 640x480 with 1 Axes>"
      ]
     },
     "metadata": {},
     "output_type": "display_data"
    }
   ],
   "source": [
    "x_axis = np.random.poisson(3.6, 1000)\n",
    "\n",
    "sns.set_theme(style='whitegrid')\n",
    "sns.countplot(x=x_axis)\n",
    "plt.show()"
   ]
  },
  {
   "cell_type": "markdown",
   "metadata": {},
   "source": [
    "O que fizemos até o momento foi realizar um experimento com base numa distribuição de Poison na qual μ = 3,6. Vamos agora ver como utilizar a linguagem Python para obter a probabilidade, a média, a variância e o desvio padrão que calculamos na aula teórica."
   ]
  },
  {
   "attachments": {},
   "cell_type": "markdown",
   "metadata": {},
   "source": [
    "Um determinado caixa automático é procurado, em média, por 3,6 pessoas a cada 10 minutos. Qual a probabilidade de que 7 pessoas procurem o caixa eletrônico em 10 minutos?"
   ]
  },
  {
   "cell_type": "code",
   "execution_count": 64,
   "metadata": {},
   "outputs": [
    {
     "data": {
      "text/plain": [
       "0.04248414026930935"
      ]
     },
     "execution_count": 64,
     "metadata": {},
     "output_type": "execute_result"
    }
   ],
   "source": [
    "poisson.pmf(7, 3.6)"
   ]
  },
  {
   "attachments": {},
   "cell_type": "markdown",
   "metadata": {},
   "source": [
    "poisson.cdf(k, mu) - Cumulative distribution function - igual ou menos que \\\n",
    "poisson.pmf(k, mu) - Probability mass function - para o valor exato \\\n",
    "poisson.sf(k, mu) - Para mais que (similar a 1 - cdf) \\\n",
    "poisson.mean(k, mu) - Para a média da distribuição \\\n",
    "poisson.var(k mu) - Para a variância da distribuição \\\n",
    "poisson.std(k, mu) - Para o desvio padrão da distribuição"
   ]
  },
  {
   "attachments": {},
   "cell_type": "markdown",
   "metadata": {},
   "source": [
    "Qual é a probabilidade de termos 7 ou menos pessoas buscando o caixa eletrônico? "
   ]
  },
  {
   "cell_type": "code",
   "execution_count": 65,
   "metadata": {},
   "outputs": [
    {
     "data": {
      "text/plain": [
       "0.9692107246403425"
      ]
     },
     "execution_count": 65,
     "metadata": {},
     "output_type": "execute_result"
    }
   ],
   "source": [
    "poisson.cdf(7, 3.6)"
   ]
  },
  {
   "attachments": {},
   "cell_type": "markdown",
   "metadata": {},
   "source": [
    "Vejamos agora o cálculo da média, variância e desvio padrão."
   ]
  },
  {
   "cell_type": "code",
   "execution_count": 66,
   "metadata": {},
   "outputs": [
    {
     "data": {
      "text/plain": [
       "3.6"
      ]
     },
     "execution_count": 66,
     "metadata": {},
     "output_type": "execute_result"
    }
   ],
   "source": [
    "poisson.mean(3.6)"
   ]
  },
  {
   "cell_type": "code",
   "execution_count": 67,
   "metadata": {},
   "outputs": [
    {
     "data": {
      "text/plain": [
       "3.6"
      ]
     },
     "execution_count": 67,
     "metadata": {},
     "output_type": "execute_result"
    }
   ],
   "source": [
    "poisson.var(3.6)"
   ]
  },
  {
   "cell_type": "code",
   "execution_count": 68,
   "metadata": {},
   "outputs": [
    {
     "data": {
      "text/plain": [
       "1.8973665961010275"
      ]
     },
     "execution_count": 68,
     "metadata": {},
     "output_type": "execute_result"
    }
   ],
   "source": [
    "poisson.std(3.6)"
   ]
  },
  {
   "attachments": {},
   "cell_type": "markdown",
   "metadata": {},
   "source": [
    "Vamos agora plotar um gráfico mostrando as probabilidades de termos 0, 1, 2, ..., 10 pessoas na fila. Para tanto, inicialmente geramos um vetor de 0 .. 10 para representar o eixo x e depois geramos outro vetor contendo as probabilidades equivalentes para cada valor do primeiro vetor."
   ]
  },
  {
   "cell_type": "code",
   "execution_count": 69,
   "metadata": {},
   "outputs": [
    {
     "data": {
      "text/plain": [
       "array([ 0,  1,  2,  3,  4,  5,  6,  7,  8,  9, 10, 11, 12, 13, 14, 15])"
      ]
     },
     "execution_count": 69,
     "metadata": {},
     "output_type": "execute_result"
    }
   ],
   "source": [
    "x_axis = np.arange(0, 16)\n",
    "x_axis"
   ]
  },
  {
   "cell_type": "code",
   "execution_count": 70,
   "metadata": {},
   "outputs": [
    {
     "name": "stdout",
     "output_type": "stream",
     "text": [
      "0 - 0.0273\n",
      "1 - 0.0984\n",
      "2 - 0.1771\n",
      "3 - 0.2125\n",
      "4 - 0.1912\n",
      "5 - 0.1377\n",
      "6 - 0.0826\n",
      "7 - 0.0425\n",
      "8 - 0.0191\n",
      "9 - 0.0076\n",
      "10 - 0.0028\n",
      "11 - 0.0009\n",
      "12 - 0.0003\n",
      "13 - 0.0001\n",
      "14 - 0.0\n",
      "15 - 0.0\n"
     ]
    }
   ],
   "source": [
    "y_axis = poisson.pmf(x_axis, 3.6)\n",
    "\n",
    "for i in range(16):\n",
    "    print(f'{i} - {round(y_axis[i], 4)}')"
   ]
  },
  {
   "cell_type": "code",
   "execution_count": 71,
   "metadata": {},
   "outputs": [
    {
     "data": {
      "image/png": "[encoded data removed]",
      "text/plain": [
       "<Figure size 640x480 with 1 Axes>"
      ]
     },
     "metadata": {},
     "output_type": "display_data"
    }
   ],
   "source": [
    "sns.barplot(x=x_axis, y=y_axis)\n",
    "plt.show()"
   ]
  },
  {
   "attachments": {},
   "cell_type": "markdown",
   "metadata": {},
   "source": [
    "Vamos agora plotar um gráfico mostrando a probabilidade acumulada."
   ]
  },
  {
   "cell_type": "code",
   "execution_count": 72,
   "metadata": {},
   "outputs": [
    {
     "name": "stdout",
     "output_type": "stream",
     "text": [
      "0 - 0.0273\n",
      "1 - 0.1257\n",
      "2 - 0.3027\n",
      "3 - 0.5152\n",
      "4 - 0.7064\n",
      "5 - 0.8441\n",
      "6 - 0.9267\n",
      "7 - 0.9692\n",
      "8 - 0.9883\n",
      "9 - 0.996\n",
      "10 - 0.9987\n",
      "11 - 0.9996\n",
      "12 - 0.9999\n",
      "13 - 1.0\n",
      "14 - 1.0\n",
      "15 - 1.0\n"
     ]
    }
   ],
   "source": [
    "y_axis = poisson.cdf(x_axis, 3.6)\n",
    "\n",
    "for i in range(16):\n",
    "    print(f'{i} - {round(y_axis[i], 4)}')"
   ]
  },
  {
   "cell_type": "code",
   "execution_count": 73,
   "metadata": {},
   "outputs": [
    {
     "data": {
      "image/png": "[encoded data removed]",
      "text/plain": [
       "<Figure size 640x480 with 1 Axes>"
      ]
     },
     "metadata": {},
     "output_type": "display_data"
    }
   ],
   "source": [
    "sns.barplot(x=x_axis, y=y_axis)\n",
    "plt.show()"
   ]
  },
  {
   "attachments": {},
   "cell_type": "markdown",
   "metadata": {},
   "source": [
    "Exercício 1 \\\n",
    "Uma empresa recebe, em média, 4,6 chamadas telefônicas por hora. Qual a probabilidade de que ocorram exatamente 8 chamadas em 1 hora?"
   ]
  },
  {
   "cell_type": "code",
   "execution_count": 74,
   "metadata": {},
   "outputs": [
    {
     "data": {
      "text/plain": [
       "0.049978994352065334"
      ]
     },
     "execution_count": 74,
     "metadata": {},
     "output_type": "execute_result"
    }
   ],
   "source": [
    "poisson.pmf(8, 4.6)"
   ]
  },
  {
   "attachments": {},
   "cell_type": "markdown",
   "metadata": {},
   "source": [
    "Exercício 2 \\\n",
    "Uma empresa recebe, em média, 4,6 chamadas telefônicas por hora. Qual a probabilidade de que ocorram mais de 6 chamadas em 1 hora?"
   ]
  },
  {
   "cell_type": "code",
   "execution_count": 77,
   "metadata": {},
   "outputs": [
    {
     "data": {
      "text/plain": [
       "0.1819709485818438"
      ]
     },
     "execution_count": 77,
     "metadata": {},
     "output_type": "execute_result"
    }
   ],
   "source": [
    "poisson.sf(6, 4.6)"
   ]
  },
  {
   "attachments": {},
   "cell_type": "markdown",
   "metadata": {},
   "source": [
    "Exercício 3 \\\n",
    "O número médio de colisões ocorrendo em uma semana durante os meses de verão em uma intersecção é de 2,0. Assuma que os pressupostos para a distribuição de Poisson são satisfeitas. \\\n",
    "A) Qual é a probabilidade de que nenhuma colisão ocorra em uma semana em particular? \\\n",
    "B) Qual é a probabilidade de que exatamemente uma colisão ocorra em uma semana em particular? \\\n",
    "C) Qual é a probabilidade de que exatamente duas colisões ocorram em uma semana em particular? \\\n",
    "D) Qual é a probabilidade de encontrar não mais do que duas colisões em uma semana? \\\n",
    "E) Qual é a probabilidade de encontrar exatamente duas colisões em um intervalo de duas semanas?"
   ]
  },
  {
   "cell_type": "code",
   "execution_count": 78,
   "metadata": {},
   "outputs": [
    {
     "data": {
      "text/plain": [
       "0.1353352832366127"
      ]
     },
     "execution_count": 78,
     "metadata": {},
     "output_type": "execute_result"
    }
   ],
   "source": [
    "poisson.pmf(0, 2)"
   ]
  },
  {
   "cell_type": "code",
   "execution_count": 81,
   "metadata": {},
   "outputs": [
    {
     "data": {
      "text/plain": [
       "0.2706705664732254"
      ]
     },
     "execution_count": 81,
     "metadata": {},
     "output_type": "execute_result"
    }
   ],
   "source": [
    "poisson.pmf(1, 2)"
   ]
  },
  {
   "cell_type": "code",
   "execution_count": 82,
   "metadata": {},
   "outputs": [
    {
     "data": {
      "text/plain": [
       "0.2706705664732254"
      ]
     },
     "execution_count": 82,
     "metadata": {},
     "output_type": "execute_result"
    }
   ],
   "source": [
    "poisson.pmf(2, 2)"
   ]
  },
  {
   "cell_type": "code",
   "execution_count": 83,
   "metadata": {},
   "outputs": [
    {
     "data": {
      "text/plain": [
       "0.6766764161830636"
      ]
     },
     "execution_count": 83,
     "metadata": {},
     "output_type": "execute_result"
    }
   ],
   "source": [
    "poisson.cdf(2, 2)"
   ]
  },
  {
   "cell_type": "code",
   "execution_count": 84,
   "metadata": {},
   "outputs": [
    {
     "data": {
      "text/plain": [
       "0.14652511110987343"
      ]
     },
     "execution_count": 84,
     "metadata": {},
     "output_type": "execute_result"
    }
   ],
   "source": [
    "poisson.pmf(2, 4)"
   ]
  },
  {
   "attachments": {},
   "cell_type": "markdown",
   "metadata": {},
   "source": [
    "Exercício 4 \\\n",
    "O número de meteoros encontrados por um sistema de radar em qualquer intervalo de 30 segundos sob determinadas condições é em média 1.81. Assuma que os meteoros apareçam aleatoriamente e independentemente. \\\n",
    "A) Qual é a probabilidade de que nenhum meteoro seja encontrado em um intervalo de um minuto (60-segundos)? \\\n",
    "B) Qual é a probabilidade de que sejam observados no mínimo cinco porém não mais que oito meteoros em dois minutos (120-segundos) de observação?"
   ]
  },
  {
   "cell_type": "code",
   "execution_count": 85,
   "metadata": {},
   "outputs": [
    {
     "data": {
      "text/plain": [
       "0.026782676492638175"
      ]
     },
     "execution_count": 85,
     "metadata": {},
     "output_type": "execute_result"
    }
   ],
   "source": [
    "poisson.pmf(0, 1.81 * 2)"
   ]
  },
  {
   "cell_type": "code",
   "execution_count": 88,
   "metadata": {},
   "outputs": [
    {
     "data": {
      "text/plain": [
       "0.5451062052204809"
      ]
     },
     "execution_count": 88,
     "metadata": {},
     "output_type": "execute_result"
    }
   ],
   "source": [
    "sum(poisson.pmf([5, 6, 7, 8], 1.81 * 4))"
   ]
  },
  {
   "cell_type": "markdown",
   "metadata": {},
   "source": [
    "Exercício 5 \\\n",
    "A equipe para atendimento de chamadas em uma empresa é baseada na previsão de 180 chamadas telefônicas por hora, distribuídas aleatoriamente. Se houver 20 chamadas ou mais em um período de 5 minutos, a capacidade é excedida e haverá um tempo de espera indesejado, portanto, há uma capacidade de 19 chamadas a cada 5 minutos. \\\n",
    "a) Qual é a probabilidade de a capacidade ser excedida em um período aleatório de 5 minutos? \\\n",
    "b) Qual deve ser a capacidade mínima para que se garanta uma probabilidade de 99% de que todas as chamadas sejam atendidas sem tempo de espera por um período selecionado aleatoriamente de 5 minutos?"
   ]
  },
  {
   "cell_type": "code",
   "execution_count": 94,
   "metadata": {},
   "outputs": [
    {
     "data": {
      "text/plain": [
       "0.12478121503252497"
      ]
     },
     "execution_count": 94,
     "metadata": {},
     "output_type": "execute_result"
    }
   ],
   "source": [
    "poisson.sf(19, 180/12)"
   ]
  },
  {
   "cell_type": "code",
   "execution_count": 98,
   "metadata": {},
   "outputs": [
    {
     "data": {
      "text/plain": [
       "25.0"
      ]
     },
     "execution_count": 98,
     "metadata": {},
     "output_type": "execute_result"
    }
   ],
   "source": [
    "poisson.ppf(0.99, 180/12)\n",
    "\n"
   ]
  }
 ],
 "metadata": {
  "kernelspec": {
   "display_name": "base",
   "language": "python",
   "name": "python3"
  },
  "language_info": {
   "codemirror_mode": {
    "name": "ipython",
    "version": 3
   },
   "file_extension": ".py",
   "mimetype": "text/x-python",
   "name": "python",
   "nbconvert_exporter": "python",
   "pygments_lexer": "ipython3",
   "version": "3.13.5"
  },
  "orig_nbformat": 4,
  "vscode": {
   "interpreter": {
    "hash": "375cb2be7c48c11bb855aa4c37dc6c17bef886eb77cae35fc21e121628c6e1e2"
   }
  }
 },
 "nbformat": 4,
 "nbformat_minor": 2
}
