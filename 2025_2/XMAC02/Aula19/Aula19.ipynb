{
 "cells": [
  {
   "attachments": {},
   "cell_type": "markdown",
   "metadata": {},
   "source": [
    "## Teste t Pareado"
   ]
  },
  {
   "attachments": {},
   "cell_type": "markdown",
   "metadata": {},
   "source": [
    "A pressão sistólica de 5 pacientes foi medida antes e depois da administração de um medicamento. Houve alteração na pressão? Nível de confiança = 95%."
   ]
  },
  {
   "cell_type": "code",
   "execution_count": 1,
   "metadata": {},
   "outputs": [],
   "source": [
    "import pandas as pd\n",
    "import numpy as np\n",
    "import seaborn as sns\n",
    "import matplotlib.pyplot as plt\n",
    "import scipy.stats as stats\n",
    "from statsmodels.stats import proportion"
   ]
  },
  {
   "cell_type": "markdown",
   "metadata": {},
   "source": [
    "H0: μAntes == μDepois \\\n",
    "Ha: μAntes <> μDepois\n"
   ]
  },
  {
   "cell_type": "code",
   "execution_count": null,
   "metadata": {},
   "outputs": [],
   "source": [
    "p_antes = [120, 122, 143, 100, 109]\n",
    "p_depois = [122, 120, 141, 109, 109]\n"
   ]
  },
  {
   "cell_type": "code",
   "execution_count": 3,
   "metadata": {},
   "outputs": [
    {
     "data": {
      "text/plain": [
       "TtestResult(statistic=-0.6864064729836442, pvalue=0.5301776477578163, df=4)"
      ]
     },
     "execution_count": 3,
     "metadata": {},
     "output_type": "execute_result"
    }
   ],
   "source": [
    "stats.ttest_rel(p_antes, p_depois)"
   ]
  },
  {
   "cell_type": "markdown",
   "metadata": {},
   "source": [
    "Conclusão: Como pValue > 0.05, falhamos em rejeitar a H0. Portanto, não houve alteração na pressão arterial dos pacientes.\n"
   ]
  },
  {
   "attachments": {},
   "cell_type": "markdown",
   "metadata": {},
   "source": [
    "### Exercício 1\n",
    "Um fabricante de tacos de golfe afirma que os golfistas podem diminuir seus placares usando os tacos de golfe recém-projetados por ele. Oito jogadores de golfe são escolhidos aleatoriamente e é pedido a cada um que forneça seu mais recente placar. Após usar os novos tacos por um mês, é pedido novamente aos jogadores que forneçam seus placares mais recentes. Os placares para cada um são mostrados na tabela. Assumindo que os placares de golfe são distribuídos normalmente, existe evidência suficiente para apoiar a afirmação do fabricante para um nível de significância de 10%? \\\n",
    "Placar (tacos antigos) = [89, 84, 96, 82, 74, 92, 85, 91] \\\n",
    "Placar (tacos novos) = [83, 83, 92, 84, 76, 91, 80, 91] \\\n",
    "A) Calcular manualmente \\\n",
    "B) Calcular usando o Python"
   ]
  },
  {
   "cell_type": "markdown",
   "metadata": {},
   "source": [
    "H0: μAntigos <= μNovos \\\n",
    "Ha: μAntigos > μNovos\n"
   ]
  },
  {
   "cell_type": "code",
   "execution_count": null,
   "metadata": {},
   "outputs": [],
   "source": [
    "tacos_antigos = [89, 84, 96, 82, 74, 92, 85, 91]\n",
    "tacos_novos = [83, 83, 92, 84, 76, 91, 80, 91]"
   ]
  },
  {
   "cell_type": "code",
   "execution_count": 10,
   "metadata": {},
   "outputs": [
    {
     "data": {
      "text/plain": [
       "TtestResult(statistic=1.4982595848788067, pvalue=0.9111307581466012, df=7)"
      ]
     },
     "execution_count": 10,
     "metadata": {},
     "output_type": "execute_result"
    }
   ],
   "source": [
    "stats.ttest_rel(tacos_antigos, tacos_novos, alternative='less')"
   ]
  },
  {
   "cell_type": "markdown",
   "metadata": {},
   "source": [
    "Conclusão: Como pValue é maior que 0.1, falhamos em rejeitar a H0. Portanto, os tacos novos não foram eficientes."
   ]
  },
  {
   "cell_type": "markdown",
   "metadata": {},
   "source": [
    "### Exercício 2\n",
    "Um professor quer usar dois exames em suas aulas no ano que vem. Este ano, ele aplicou os dois exames aos alunos. Ele quer saber se os exames são igualmente difíceis e quer verificar isso observando as diferenças entre as pontuações. Se a diferença média entre as pontuações dos alunos for \"próxima o suficiente\" de zero, ele chegará a uma conclusão prática de que os exames são igualmente difíceis. As notas dos alunos estão no dataset 'notas.csv'. Assuma que as notas são normalmente distribuídas e realize um teste de hipótese com confianção de 95% que seja capaz de informar ao professor se as provas são igualmente difíceis."
   ]
  },
  {
   "cell_type": "markdown",
   "metadata": {},
   "source": [
    "H0: μNotas1 == μNotas2 \\\n",
    "Ha: μNotas1 <> μNotas2\n"
   ]
  },
  {
   "cell_type": "code",
   "execution_count": 11,
   "metadata": {},
   "outputs": [
    {
     "data": {
      "text/html": [
       "<div>\n",
       "<style scoped>\n",
       "    .dataframe tbody tr th:only-of-type {\n",
       "        vertical-align: middle;\n",
       "    }\n",
       "\n",
       "    .dataframe tbody tr th {\n",
       "        vertical-align: top;\n",
       "    }\n",
       "\n",
       "    .dataframe thead th {\n",
       "        text-align: right;\n",
       "    }\n",
       "</style>\n",
       "<table border=\"1\" class=\"dataframe\">\n",
       "  <thead>\n",
       "    <tr style=\"text-align: right;\">\n",
       "      <th></th>\n",
       "      <th>Nome</th>\n",
       "      <th>Nota1</th>\n",
       "      <th>Nota2</th>\n",
       "    </tr>\n",
       "  </thead>\n",
       "  <tbody>\n",
       "    <tr>\n",
       "      <th>0</th>\n",
       "      <td>Rui</td>\n",
       "      <td>63</td>\n",
       "      <td>69</td>\n",
       "    </tr>\n",
       "    <tr>\n",
       "      <th>1</th>\n",
       "      <td>Nina</td>\n",
       "      <td>65</td>\n",
       "      <td>65</td>\n",
       "    </tr>\n",
       "    <tr>\n",
       "      <th>2</th>\n",
       "      <td>Theo</td>\n",
       "      <td>56</td>\n",
       "      <td>62</td>\n",
       "    </tr>\n",
       "    <tr>\n",
       "      <th>3</th>\n",
       "      <td>Kate</td>\n",
       "      <td>100</td>\n",
       "      <td>91</td>\n",
       "    </tr>\n",
       "    <tr>\n",
       "      <th>4</th>\n",
       "      <td>Pedro</td>\n",
       "      <td>88</td>\n",
       "      <td>78</td>\n",
       "    </tr>\n",
       "  </tbody>\n",
       "</table>\n",
       "</div>"
      ],
      "text/plain": [
       "    Nome  Nota1  Nota2\n",
       "0    Rui     63     69\n",
       "1   Nina     65     65\n",
       "2   Theo     56     62\n",
       "3   Kate    100     91\n",
       "4  Pedro     88     78"
      ]
     },
     "execution_count": 11,
     "metadata": {},
     "output_type": "execute_result"
    }
   ],
   "source": [
    "df = pd.read_csv('notas.csv')\n",
    "df.head()"
   ]
  },
  {
   "cell_type": "code",
   "execution_count": 13,
   "metadata": {},
   "outputs": [],
   "source": [
    "notas1 = df['Nota1']\n",
    "notas2 = df['Nota2']"
   ]
  },
  {
   "cell_type": "code",
   "execution_count": 14,
   "metadata": {},
   "outputs": [
    {
     "data": {
      "text/plain": [
       "TtestResult(statistic=-0.7497768853141169, pvalue=0.4649871003972206, df=15)"
      ]
     },
     "execution_count": 14,
     "metadata": {},
     "output_type": "execute_result"
    }
   ],
   "source": [
    "stats.ttest_rel(notas1, notas2)"
   ]
  },
  {
   "cell_type": "markdown",
   "metadata": {},
   "source": [
    "Conclusão: Como pValue é significativamente maior que 0.05, falhamos em rejeitar H0. Portanto, a média das notas 1 e 2 é suficientemente igual.\n"
   ]
  }
 ],
 "metadata": {
  "kernelspec": {
   "display_name": "base",
   "language": "python",
   "name": "python3"
  },
  "language_info": {
   "codemirror_mode": {
    "name": "ipython",
    "version": 3
   },
   "file_extension": ".py",
   "mimetype": "text/x-python",
   "name": "python",
   "nbconvert_exporter": "python",
   "pygments_lexer": "ipython3",
   "version": "3.13.5"
  },
  "orig_nbformat": 4
 },
 "nbformat": 4,
 "nbformat_minor": 2
}
