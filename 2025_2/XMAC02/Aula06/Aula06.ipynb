{
 "cells": [
  {
   "attachments": {},
   "cell_type": "markdown",
   "metadata": {},
   "source": [
    "## Distribuição Binomial \n",
    "Na distribuição binomial temos sempre duas possibilidades de resultado (sucesso ou fracasso, cara ou coroa, etc.). Podemos então utilizar a distribuição binomial para simular o lançamento de uma moeda."
   ]
  },
  {
   "cell_type": "code",
   "execution_count": 1,
   "metadata": {},
   "outputs": [],
   "source": [
    "import numpy as np\n",
    "import matplotlib.pyplot as plt\n",
    "import seaborn as sns"
   ]
  },
  {
   "cell_type": "code",
   "execution_count": 2,
   "metadata": {},
   "outputs": [
    {
     "data": {
      "text/plain": [
       "0"
      ]
     },
     "execution_count": 2,
     "metadata": {},
     "output_type": "execute_result"
    }
   ],
   "source": [
    "np.random.binomial(1, 0.5)"
   ]
  },
  {
   "attachments": {},
   "cell_type": "markdown",
   "metadata": {},
   "source": [
    "Como simular o lançamento de duas moedas?"
   ]
  },
  {
   "cell_type": "code",
   "execution_count": 3,
   "metadata": {},
   "outputs": [
    {
     "data": {
      "text/plain": [
       "1"
      ]
     },
     "execution_count": 3,
     "metadata": {},
     "output_type": "execute_result"
    }
   ],
   "source": [
    "np.random.binomial(2, 0.5)"
   ]
  },
  {
   "attachments": {},
   "cell_type": "markdown",
   "metadata": {},
   "source": [
    "E se eu quiser simular 1.000 lançamentos de duas moedas?"
   ]
  },
  {
   "cell_type": "code",
   "execution_count": 4,
   "metadata": {},
   "outputs": [
    {
     "data": {
      "text/plain": [
       "array([0, 1, 0, 1, 1, 2, 2, 1, 1, 1, 2, 1, 1, 2, 2, 1, 1, 1, 1, 1, 1, 0,\n",
       "       0, 1, 1, 2, 1, 0, 0, 2, 1, 1, 1, 1, 0, 2, 1, 1, 0, 1, 2, 1, 2, 1,\n",
       "       1, 2, 2, 2, 1, 2, 0, 1, 2, 0, 1, 1, 2, 0, 0, 0, 1, 1, 2, 0, 1, 2,\n",
       "       2, 2, 2, 2, 2, 2, 0, 0, 1, 1, 0, 1, 2, 0, 0, 1, 0, 1, 1, 0, 2, 1,\n",
       "       1, 1, 1, 1, 0, 2, 2, 1, 2, 1, 1, 2, 2, 1, 2, 1, 0, 2, 1, 1, 1, 1,\n",
       "       2, 2, 0, 1, 1, 0, 0, 1, 1, 2, 0, 1, 1, 2, 0, 1, 1, 1, 1, 0, 2, 1,\n",
       "       1, 2, 0, 2, 0, 2, 1, 1, 1, 2, 1, 0, 1, 1, 1, 0, 1, 2, 2, 2, 2, 1,\n",
       "       0, 1, 1, 1, 0, 2, 0, 1, 1, 1, 1, 0, 0, 0, 1, 0, 1, 2, 1, 1, 1, 1,\n",
       "       2, 1, 0, 1, 1, 2, 2, 1, 1, 0, 0, 0, 1, 1, 2, 1, 1, 2, 1, 1, 1, 0,\n",
       "       1, 0, 1, 1, 2, 1, 2, 0, 1, 1, 0, 2, 1, 1, 1, 1, 1, 1, 0, 1, 2, 2,\n",
       "       2, 1, 1, 2, 2, 1, 1, 1, 1, 1, 1, 1, 0, 1, 0, 2, 2, 2, 2, 1, 1, 1,\n",
       "       2, 1, 2, 1, 1, 2, 0, 0, 1, 1, 1, 2, 0, 1, 1, 0, 0, 1, 1, 2, 2, 0,\n",
       "       1, 1, 0, 1, 1, 1, 2, 2, 0, 1, 2, 0, 1, 2, 1, 1, 2, 1, 0, 1, 1, 1,\n",
       "       1, 2, 2, 1, 1, 1, 2, 1, 2, 0, 2, 2, 0, 1, 0, 1, 1, 1, 1, 0, 1, 0,\n",
       "       1, 0, 1, 0, 1, 1, 2, 1, 1, 1, 2, 2, 2, 2, 2, 1, 1, 1, 1, 1, 2, 1,\n",
       "       1, 1, 0, 2, 2, 1, 2, 2, 0, 1, 1, 2, 0, 0, 1, 1, 1, 2, 0, 1, 0, 0,\n",
       "       1, 1, 0, 1, 1, 1, 1, 2, 2, 1, 2, 2, 1, 0, 1, 2, 0, 1, 1, 0, 2, 0,\n",
       "       0, 1, 1, 1, 2, 2, 1, 1, 1, 1, 1, 1, 2, 0, 1, 1, 1, 1, 1, 1, 0, 1,\n",
       "       2, 2, 0, 0, 0, 1, 1, 0, 1, 2, 1, 1, 0, 1, 1, 2, 1, 0, 1, 0, 1, 0,\n",
       "       0, 0, 1, 1, 1, 2, 1, 0, 1, 1, 1, 1, 0, 1, 2, 1, 1, 1, 2, 2, 1, 1,\n",
       "       1, 0, 0, 0, 0, 1, 1, 1, 1, 2, 2, 1, 2, 1, 1, 1, 1, 2, 0, 1, 1, 1,\n",
       "       2, 1, 2, 1, 1, 1, 1, 0, 0, 1, 2, 1, 1, 2, 1, 0, 1, 2, 1, 1, 1, 0,\n",
       "       0, 1, 0, 1, 0, 0, 1, 2, 0, 1, 1, 1, 0, 2, 0, 1, 1, 0, 2, 1, 1, 1,\n",
       "       1, 0, 0, 2, 0, 1, 0, 1, 1, 2, 2, 2, 1, 1, 0, 0, 0, 1, 1, 0, 0, 0,\n",
       "       2, 2, 2, 2, 1, 1, 2, 1, 2, 0, 1, 2, 0, 1, 1, 1, 1, 0, 0, 1, 0, 2,\n",
       "       1, 2, 2, 2, 0, 2, 1, 2, 0, 1, 2, 1, 1, 2, 0, 0, 2, 1, 0, 2, 2, 1,\n",
       "       1, 1, 1, 2, 2, 0, 1, 2, 0, 1, 0, 2, 1, 1, 2, 2, 0, 1, 0, 0, 2, 2,\n",
       "       1, 0, 0, 0, 2, 0, 2, 2, 1, 2, 1, 0, 1, 1, 1, 1, 0, 1, 0, 2, 1, 0,\n",
       "       2, 1, 1, 1, 2, 2, 2, 2, 2, 2, 0, 1, 0, 2, 1, 1, 0, 0, 1, 1, 1, 0,\n",
       "       0, 1, 0, 1, 0, 0, 0, 2, 1, 2, 0, 1, 1, 0, 1, 0, 1, 1, 1, 2, 0, 1,\n",
       "       0, 0, 1, 0, 0, 0, 2, 1, 0, 1, 1, 0, 1, 0, 2, 2, 1, 0, 1, 1, 1, 1,\n",
       "       0, 0, 1, 1, 1, 2, 2, 1, 1, 1, 2, 1, 1, 1, 1, 1, 0, 0, 1, 2, 2, 2,\n",
       "       1, 2, 0, 0, 1, 2, 1, 0, 0, 2, 0, 1, 2, 1, 1, 0, 1, 1, 0, 0, 1, 1,\n",
       "       2, 1, 1, 1, 1, 1, 1, 2, 2, 1, 1, 0, 1, 2, 2, 1, 1, 2, 0, 1, 1, 0,\n",
       "       0, 0, 1, 0, 2, 1, 1, 1, 1, 0, 1, 1, 2, 1, 0, 1, 1, 1, 1, 0, 1, 2,\n",
       "       1, 1, 1, 1, 1, 0, 2, 2, 0, 0, 0, 1, 1, 2, 1, 1, 1, 0, 0, 2, 2, 0,\n",
       "       1, 1, 1, 0, 1, 0, 1, 2, 2, 0, 1, 1, 1, 0, 0, 0, 1, 1, 0, 1, 2, 0,\n",
       "       1, 1, 0, 1, 1, 1, 2, 0, 1, 1, 1, 2, 0, 0, 0, 1, 1, 1, 1, 1, 2, 0,\n",
       "       2, 0, 1, 1, 1, 2, 1, 1, 0, 1, 1, 1, 1, 0, 1, 1, 1, 2, 1, 2, 0, 2,\n",
       "       1, 1, 0, 0, 1, 1, 1, 0, 0, 1, 1, 0, 0, 1, 0, 1, 0, 0, 1, 1, 1, 1,\n",
       "       1, 1, 0, 0, 1, 1, 1, 1, 0, 2, 1, 0, 1, 0, 1, 2, 2, 2, 2, 2, 0, 0,\n",
       "       1, 1, 0, 0, 1, 2, 1, 2, 1, 0, 2, 1, 0, 1, 2, 2, 2, 1, 1, 1, 1, 0,\n",
       "       0, 1, 1, 1, 2, 1, 0, 0, 1, 0, 2, 1, 1, 0, 0, 1, 2, 2, 2, 0, 1, 1,\n",
       "       1, 1, 1, 0, 2, 2, 0, 2, 1, 1, 1, 1, 1, 1, 0, 1, 1, 1, 0, 1, 0, 1,\n",
       "       1, 1, 0, 1, 0, 1, 2, 2, 1, 1, 1, 0, 0, 1, 0, 0, 2, 1, 2, 2, 2, 1,\n",
       "       2, 2, 2, 0, 1, 0, 0, 1, 0, 1])"
      ]
     },
     "execution_count": 4,
     "metadata": {},
     "output_type": "execute_result"
    }
   ],
   "source": [
    "np.random.binomial(2, 0.5, 1000)"
   ]
  },
  {
   "attachments": {},
   "cell_type": "markdown",
   "metadata": {},
   "source": [
    "Vamos agora guardar o resultado obtido numa variável e analisar esse resultado. Vimos, na parte teórica que se lançarmos duas moedas temos as seguintes probabilidades: \\\n",
    "0 caras -> P(0) = 0,25 \\\n",
    "1 cara  -> P(1) = 0,5 \\\n",
    "2 caras -> P(2) = 0,25 \\\n",
    "Vamos plotar o resultado de 1.000 lançamentos e analisar esse resultado."
   ]
  },
  {
   "cell_type": "code",
   "execution_count": 5,
   "metadata": {},
   "outputs": [
    {
     "data": {
      "image/png": "[encoded data removed]",
      "text/plain": [
       "<Figure size 640x480 with 1 Axes>"
      ]
     },
     "metadata": {},
     "output_type": "display_data"
    }
   ],
   "source": [
    "mil = np.random.binomial(2, 0.5, 1_000)\n",
    "\n",
    "sns.set_theme(style='whitegrid')\n",
    "sns.countplot(x=mil)\n",
    "plt.show()"
   ]
  },
  {
   "cell_type": "code",
   "execution_count": 6,
   "metadata": {},
   "outputs": [],
   "source": [
    "plt.close('all')"
   ]
  },
  {
   "attachments": {},
   "cell_type": "markdown",
   "metadata": {},
   "source": [
    "Vamos agora simular mil jogos de 10 moedas."
   ]
  },
  {
   "cell_type": "code",
   "execution_count": 7,
   "metadata": {},
   "outputs": [
    {
     "data": {
      "image/png": "[encoded data removed]",
      "text/plain": [
       "<Figure size 640x480 with 1 Axes>"
      ]
     },
     "metadata": {},
     "output_type": "display_data"
    }
   ],
   "source": [
    "mil2 = np.random.binomial(10, 0.5, 1_000)\n",
    "\n",
    "sns.set_theme(style='whitegrid')\n",
    "sns.countplot(x=mil2)\n",
    "plt.show()"
   ]
  },
  {
   "cell_type": "code",
   "execution_count": 8,
   "metadata": {},
   "outputs": [],
   "source": [
    "plt.close('all')"
   ]
  },
  {
   "attachments": {},
   "cell_type": "markdown",
   "metadata": {},
   "source": [
    "Considere agora o seguinte problema: \\\n",
    "Uma manufatura tem uma taxa de defeitos de 12% na sua produção. Um comprador decide testar uma amostra de 20 peças aleatórias e só comprará da manufatura se encontrar duas ou menos peças defeituosas na amostra. Qual é a probabilidade de que a compra ocorra?"
   ]
  },
  {
   "attachments": {},
   "cell_type": "markdown",
   "metadata": {},
   "source": [
    "Na parte teórica, vimos que existem fórmulas matemáticas para realizar este cálculo. A linguagem Python provê o pacote SciPy para realizar esses cálculos. Veremos a seguir como usar o Scipy para resolver o problema acima."
   ]
  },
  {
   "cell_type": "code",
   "execution_count": 9,
   "metadata": {},
   "outputs": [],
   "source": [
    "from scipy.stats import binom"
   ]
  },
  {
   "attachments": {},
   "cell_type": "markdown",
   "metadata": {},
   "source": [
    "Para obter a probabilidade de que a compra ocorra, vamos utilizar a função cdf -- cumulative distribution function. Estamos usando essa função porque queremos calcular a probabilidade de termos até 2 peças defeituosas, ou seja, P(0) + P(1) + P(2) => portanto estamos acumulando (somando) as probabilidades. \\\n",
    "A função cdf tem 3 parâmetros: \\\n",
    "k - número máximo de peças defeituosas (cumulativo) \\\n",
    "n - número de peças da amostra \\\n",
    "p - probabilidade de peças defeituosas "
   ]
  },
  {
   "cell_type": "code",
   "execution_count": 10,
   "metadata": {},
   "outputs": [
    {
     "data": {
      "text/plain": [
       "0.56"
      ]
     },
     "execution_count": 10,
     "metadata": {},
     "output_type": "execute_result"
    }
   ],
   "source": [
    "round(binom.cdf(2, 20, 0.12), 2)"
   ]
  },
  {
   "attachments": {},
   "cell_type": "markdown",
   "metadata": {},
   "source": [
    "E se quisermos descobrir a probabilidade de obtermos *exatamente* 2 peças defeituosas na amostra? \\\n",
    "Para tanto basta usar a função pmf -- probability mass function -- a qual tem os mesmos parâmetros que a função cdf."
   ]
  },
  {
   "cell_type": "code",
   "execution_count": 11,
   "metadata": {},
   "outputs": [
    {
     "data": {
      "text/plain": [
       "0.27"
      ]
     },
     "execution_count": 11,
     "metadata": {},
     "output_type": "execute_result"
    }
   ],
   "source": [
    "round(binom.pmf(2, 20, 0.12), 2)"
   ]
  },
  {
   "attachments": {},
   "cell_type": "markdown",
   "metadata": {},
   "source": [
    "Para calcularmos o número médio de peças defeituosas por amostra, basta usar a função mean, com os parâmetros n e p."
   ]
  },
  {
   "cell_type": "code",
   "execution_count": 12,
   "metadata": {},
   "outputs": [
    {
     "name": "stdout",
     "output_type": "stream",
     "text": [
      "0.07756279363818958 0.2115348917405171 0.2740338370274882\n"
     ]
    },
    {
     "data": {
      "text/plain": [
       "0.5631315224061948"
      ]
     },
     "execution_count": 12,
     "metadata": {},
     "output_type": "execute_result"
    }
   ],
   "source": [
    "p0 = binom.pmf(0, 20, 0.12)\n",
    "p1 = binom.pmf(1, 20, 0.12)\n",
    "p2 = binom.pmf(2, 20, 0.12)\n",
    "\n",
    "print(p0, p1, p2)\n",
    "\n",
    "psoma = p0 + p1 + p2\n",
    "psoma"
   ]
  },
  {
   "cell_type": "markdown",
   "metadata": {},
   "source": [
    "Vamos calcular o número médio de peças defeituosas dessa distribuição."
   ]
  },
  {
   "cell_type": "code",
   "execution_count": 13,
   "metadata": {},
   "outputs": [
    {
     "data": {
      "text/plain": [
       "2.4"
      ]
     },
     "execution_count": 13,
     "metadata": {},
     "output_type": "execute_result"
    }
   ],
   "source": [
    "binom.mean(20, 0.12)"
   ]
  },
  {
   "attachments": {},
   "cell_type": "markdown",
   "metadata": {},
   "source": [
    "De forma similar, podemos obter o desvio padrão e a variância com as funções std e var."
   ]
  },
  {
   "cell_type": "code",
   "execution_count": 14,
   "metadata": {},
   "outputs": [
    {
     "data": {
      "text/plain": [
       "2.112"
      ]
     },
     "execution_count": 14,
     "metadata": {},
     "output_type": "execute_result"
    }
   ],
   "source": [
    "binom.var(20, 0.12)"
   ]
  },
  {
   "cell_type": "code",
   "execution_count": 15,
   "metadata": {},
   "outputs": [
    {
     "data": {
      "text/plain": [
       "1.453272169966796"
      ]
     },
     "execution_count": 15,
     "metadata": {},
     "output_type": "execute_result"
    }
   ],
   "source": [
    "binom.std(20, 0.12)"
   ]
  },
  {
   "attachments": {},
   "cell_type": "markdown",
   "metadata": {},
   "source": [
    "Suponha agora que queremos obter a probabilidade de obtermos mais de 2 peças defeituosas na amostra. \\\n",
    "Existem duas possibilidades para isso: \n",
    "1) fazer 1 menos a probabilidade que calculamos \n",
    "2) utilizar a função sf -- survival function"
   ]
  },
  {
   "cell_type": "code",
   "execution_count": 16,
   "metadata": {},
   "outputs": [
    {
     "data": {
      "text/plain": [
       "0.4368684775938054"
      ]
     },
     "execution_count": 16,
     "metadata": {},
     "output_type": "execute_result"
    }
   ],
   "source": [
    "1 - binom.cdf(2, 20, 0.12)"
   ]
  },
  {
   "cell_type": "code",
   "execution_count": 17,
   "metadata": {},
   "outputs": [
    {
     "data": {
      "text/plain": [
       "0.4368684775938054"
      ]
     },
     "execution_count": 17,
     "metadata": {},
     "output_type": "execute_result"
    }
   ],
   "source": [
    "binom.sf(2, 20, 0.12)"
   ]
  },
  {
   "attachments": {},
   "cell_type": "markdown",
   "metadata": {},
   "source": [
    "Suponha agora que eu queira plotar um gráfico que mostre a probabilidade de ter 1, 2, 3, ... 20 peças defeituosas. Isto recebe o nome de distribuição de probabilidade. Vejamos como fazer isso."
   ]
  },
  {
   "cell_type": "code",
   "execution_count": 18,
   "metadata": {},
   "outputs": [
    {
     "data": {
      "text/plain": [
       "array([ 0,  1,  2,  3,  4,  5,  6,  7,  8,  9, 10, 11, 12, 13, 14, 15, 16,\n",
       "       17, 18, 19, 20])"
      ]
     },
     "execution_count": 18,
     "metadata": {},
     "output_type": "execute_result"
    }
   ],
   "source": [
    "eixo_x = np.arange(0, 21)\n",
    "eixo_x"
   ]
  },
  {
   "cell_type": "code",
   "execution_count": 19,
   "metadata": {},
   "outputs": [
    {
     "name": "stdout",
     "output_type": "stream",
     "text": [
      "0 - 0.0776\n",
      "1 - 0.2115\n",
      "2 - 0.2740\n",
      "3 - 0.2242\n",
      "4 - 0.1299\n",
      "5 - 0.0567\n",
      "6 - 0.0193\n",
      "7 - 0.0053\n",
      "8 - 0.0012\n",
      "9 - 0.0002\n",
      "10 - 0.0000\n",
      "11 - 0.0000\n",
      "12 - 0.0000\n",
      "13 - 0.0000\n",
      "14 - 0.0000\n",
      "15 - 0.0000\n",
      "16 - 0.0000\n",
      "17 - 0.0000\n",
      "18 - 0.0000\n",
      "19 - 0.0000\n"
     ]
    }
   ],
   "source": [
    "eixo_y = binom.pmf(eixo_x, 20, 0.12)\n",
    "\n",
    "for i in range(20):\n",
    "    print(f'{i} - {eixo_y[i]:.4f}')"
   ]
  },
  {
   "cell_type": "code",
   "execution_count": 20,
   "metadata": {},
   "outputs": [
    {
     "data": {
      "image/png": "[encoded data removed]",
      "text/plain": [
       "<Figure size 640x480 with 1 Axes>"
      ]
     },
     "metadata": {},
     "output_type": "display_data"
    }
   ],
   "source": [
    "sns.barplot(x=eixo_x, y=eixo_y)\n",
    "plt.show()"
   ]
  },
  {
   "cell_type": "code",
   "execution_count": 21,
   "metadata": {},
   "outputs": [],
   "source": [
    "plt.close('all')"
   ]
  },
  {
   "attachments": {},
   "cell_type": "markdown",
   "metadata": {},
   "source": [
    "Podemos também fazer um gráfico mostrando a probabilidade cumulativa."
   ]
  },
  {
   "cell_type": "code",
   "execution_count": 22,
   "metadata": {},
   "outputs": [
    {
     "name": "stdout",
     "output_type": "stream",
     "text": [
      "0 - 0.08\n",
      "1 - 0.29\n",
      "2 - 0.56\n",
      "3 - 0.79\n",
      "4 - 0.92\n",
      "5 - 0.97\n",
      "6 - 0.99\n",
      "7 - 1.00\n",
      "8 - 1.00\n",
      "9 - 1.00\n",
      "10 - 1.00\n",
      "11 - 1.00\n",
      "12 - 1.00\n",
      "13 - 1.00\n",
      "14 - 1.00\n",
      "15 - 1.00\n",
      "16 - 1.00\n",
      "17 - 1.00\n",
      "18 - 1.00\n",
      "19 - 1.00\n"
     ]
    },
    {
     "data": {
      "image/png": "[encoded data removed]",
      "text/plain": [
       "<Figure size 640x480 with 1 Axes>"
      ]
     },
     "metadata": {},
     "output_type": "display_data"
    }
   ],
   "source": [
    "eixo_y2 = binom.cdf(eixo_x, 20, 0.12)\n",
    "\n",
    "for i in range(20):\n",
    "    print(f'{i} - {eixo_y2[i]:.2f}')\n",
    "\n",
    "sns.barplot(x=eixo_x, y=eixo_y2)\n",
    "plt.show()"
   ]
  },
  {
   "attachments": {},
   "cell_type": "markdown",
   "metadata": {},
   "source": [
    "Vamos agora realizar um experimento para confirmar as probabilidades calculadas. Inicialmente vamos analisar o resultado de 10 amostras e checar o número de peças defeituosas em cada amostra."
   ]
  },
  {
   "cell_type": "code",
   "execution_count": 23,
   "metadata": {},
   "outputs": [
    {
     "data": {
      "text/plain": [
       "array([1, 5, 1, 2, 1, 3, 5, 4, 1, 6])"
      ]
     },
     "execution_count": 23,
     "metadata": {},
     "output_type": "execute_result"
    }
   ],
   "source": [
    "vet = np.random.binomial(20, 0.12, 10)\n",
    "vet"
   ]
  },
  {
   "attachments": {},
   "cell_type": "markdown",
   "metadata": {},
   "source": [
    "Agora vamos gerar um vetor com o resultado de 1.000 amostras e utilizar esse vetor para plotar um gráfico."
   ]
  },
  {
   "cell_type": "code",
   "execution_count": 24,
   "metadata": {},
   "outputs": [
    {
     "data": {
      "text/plain": [
       "array([1, 3, 2, 0, 2, 4, 3, 5, 3, 1, 2, 3, 1, 2, 3, 2, 4, 2, 4, 4, 2, 4,\n",
       "       2, 3, 1, 1, 2, 5, 4, 1, 5, 2, 2, 1, 4, 2, 2, 4, 1, 2, 2, 4, 1, 0,\n",
       "       2, 5, 2, 2, 2, 3, 0, 0, 4, 4, 4, 1, 1, 2, 2, 5, 1, 1, 2, 2, 3, 3,\n",
       "       2, 6, 2, 1, 1, 2, 2, 1, 0, 2, 3, 2, 2, 4, 0, 2, 5, 5, 2, 4, 2, 2,\n",
       "       1, 4, 4, 4, 5, 1, 4, 0, 3, 4, 4, 2, 3, 0, 3, 0, 2, 3, 3, 0, 2, 1,\n",
       "       1, 4, 2, 5, 3, 1, 6, 4, 3, 2, 5, 1, 4, 2, 2, 4, 2, 4, 3, 3, 1, 2,\n",
       "       2, 2, 2, 3, 1, 3, 3, 2, 6, 1, 1, 2, 3, 3, 4, 3, 1, 5, 2, 3, 0, 2,\n",
       "       2, 4, 1, 2, 5, 6, 3, 2, 1, 6, 3, 3, 3, 2, 3, 2, 0, 2, 3, 4, 1, 3,\n",
       "       1, 3, 6, 5, 1, 1, 2, 3, 3, 3, 1, 1, 5, 4, 2, 3, 2, 4, 3, 5, 1, 3,\n",
       "       4, 3, 2, 5, 3, 2, 3, 4, 1, 0, 2, 3, 7, 3, 4, 2, 3, 2, 2, 3, 3, 1,\n",
       "       6, 4, 1, 3, 0, 5, 3, 4, 2, 4, 1, 0, 2, 4, 0, 2, 1, 3, 2, 2, 2, 4,\n",
       "       4, 0, 5, 1, 3, 1, 2, 5, 1, 2, 1, 1, 3, 3, 0, 2, 2, 3, 2, 2, 2, 2,\n",
       "       2, 5, 3, 4, 2, 1, 2, 1, 5, 0, 4, 2, 0, 1, 3, 3, 3, 4, 3, 1, 1, 1,\n",
       "       2, 2, 2, 4, 4, 4, 2, 0, 3, 1, 3, 1, 3, 5, 1, 3, 0, 2, 2, 1, 2, 2,\n",
       "       2, 1, 3, 6, 2, 2, 3, 3, 1, 1, 0, 1, 2, 2, 3, 6, 1, 1, 2, 2, 2, 3,\n",
       "       3, 3, 1, 5, 6, 2, 4, 5, 6, 1, 2, 3, 1, 2, 3, 1, 3, 4, 1, 0, 3, 0,\n",
       "       2, 1, 2, 6, 4, 3, 5, 4, 0, 2, 0, 4, 2, 1, 0, 3, 2, 2, 3, 2, 4, 1,\n",
       "       2, 2, 5, 3, 6, 2, 2, 2, 1, 0, 5, 2, 2, 3, 3, 2, 1, 1, 1, 4, 2, 1,\n",
       "       3, 5, 2, 2, 2, 2, 5, 3, 3, 0, 2, 1, 1, 2, 1, 3, 5, 1, 4, 1, 1, 2,\n",
       "       2, 1, 0, 0, 3, 2, 1, 1, 2, 2, 0, 4, 2, 1, 1, 2, 0, 1, 1, 2, 4, 1,\n",
       "       2, 8, 2, 0, 1, 1, 1, 5, 1, 3, 1, 2, 3, 1, 2, 1, 2, 4, 4, 3, 5, 3,\n",
       "       3, 3, 3, 1, 2, 3, 3, 3, 1, 2, 0, 0, 3, 1, 0, 3, 4, 0, 3, 4, 1, 1,\n",
       "       1, 4, 1, 3, 4, 4, 1, 4, 2, 0, 2, 2, 5, 1, 3, 0, 1, 1, 3, 1, 2, 3,\n",
       "       2, 0, 3, 4, 1, 3, 5, 2, 3, 4, 2, 2, 1, 5, 4, 1, 3, 2, 3, 2, 2, 3,\n",
       "       3, 2, 0, 2, 2, 0, 3, 3, 3, 1, 2, 3, 4, 6, 2, 1, 3, 2, 2, 3, 5, 2,\n",
       "       1, 1, 0, 3, 1, 2, 0, 2, 3, 0, 3, 2, 5, 2, 1, 1, 5, 1, 0, 3, 5, 3,\n",
       "       2, 2, 5, 3, 3, 1, 0, 1, 2, 3, 3, 3, 2, 3, 0, 1, 3, 4, 1, 3, 3, 2,\n",
       "       1, 4, 2, 4, 2, 2, 6, 3, 2, 4, 2, 3, 2, 1, 1, 2, 4, 1, 2, 2, 2, 2,\n",
       "       4, 2, 5, 1, 1, 6, 0, 1, 3, 1, 2, 2, 3, 3, 2, 1, 6, 2, 1, 2, 2, 3,\n",
       "       3, 3, 3, 0, 4, 3, 4, 2, 5, 1, 5, 0, 2, 4, 1, 3, 1, 3, 1, 3, 1, 1,\n",
       "       0, 2, 0, 5, 2, 3, 2, 1, 5, 2, 3, 4, 1, 2, 1, 0, 7, 2, 2, 1, 3, 3,\n",
       "       2, 3, 2, 5, 3, 3, 1, 5, 4, 2, 1, 3, 3, 1, 3, 4, 1, 1, 2, 4, 1, 4,\n",
       "       5, 6, 1, 4, 4, 2, 4, 4, 3, 2, 2, 3, 4, 0, 2, 3, 2, 0, 3, 5, 3, 2,\n",
       "       1, 4, 3, 2, 2, 5, 1, 2, 4, 2, 0, 1, 2, 2, 2, 3, 2, 2, 2, 3, 4, 2,\n",
       "       1, 3, 1, 1, 4, 2, 4, 1, 3, 2, 1, 4, 2, 4, 2, 0, 2, 3, 1, 2, 2, 2,\n",
       "       3, 0, 1, 3, 2, 3, 4, 1, 3, 2, 2, 4, 4, 4, 2, 3, 1, 3, 1, 3, 1, 2,\n",
       "       1, 0, 2, 2, 1, 1, 3, 2, 4, 0, 4, 3, 0, 2, 1, 2, 1, 1, 7, 5, 2, 0,\n",
       "       2, 3, 5, 2, 1, 3, 1, 5, 2, 1, 6, 4, 3, 3, 2, 2, 3, 2, 4, 3, 3, 1,\n",
       "       3, 3, 3, 6, 0, 4, 5, 5, 1, 3, 4, 3, 3, 4, 2, 1, 4, 3, 1, 2, 2, 1,\n",
       "       1, 1, 3, 1, 2, 4, 3, 2, 5, 2, 2, 4, 0, 3, 2, 4, 3, 2, 4, 1, 0, 5,\n",
       "       3, 3, 1, 1, 4, 2, 1, 2, 1, 3, 1, 0, 4, 2, 2, 3, 1, 4, 1, 3, 2, 1,\n",
       "       1, 1, 5, 1, 4, 2, 2, 0, 3, 3, 2, 5, 1, 2, 3, 2, 2, 1, 3, 1, 3, 2,\n",
       "       2, 4, 2, 2, 0, 5, 1, 4, 1, 3, 0, 2, 1, 5, 5, 4, 3, 3, 1, 2, 0, 3,\n",
       "       3, 1, 2, 4, 4, 2, 3, 2, 2, 5, 2, 3, 3, 3, 0, 3, 2, 1, 2, 0, 2, 4,\n",
       "       5, 3, 2, 2, 1, 2, 6, 1, 4, 2, 3, 2, 2, 2, 2, 2, 3, 1, 2, 1, 4, 4,\n",
       "       1, 1, 4, 4, 4, 1, 2, 2, 1, 3])"
      ]
     },
     "execution_count": 24,
     "metadata": {},
     "output_type": "execute_result"
    }
   ],
   "source": [
    "vet = np.random.binomial(20, 0.12, 1000)\n",
    "vet"
   ]
  },
  {
   "cell_type": "code",
   "execution_count": 25,
   "metadata": {},
   "outputs": [
    {
     "data": {
      "image/png": "[encoded data removed]",
      "text/plain": [
       "<Figure size 640x480 with 1 Axes>"
      ]
     },
     "metadata": {},
     "output_type": "display_data"
    }
   ],
   "source": [
    "sns.countplot(x=vet)\n",
    "plt.show()"
   ]
  },
  {
   "cell_type": "code",
   "execution_count": 26,
   "metadata": {},
   "outputs": [],
   "source": [
    "plt.close('all')"
   ]
  },
  {
   "attachments": {},
   "cell_type": "markdown",
   "metadata": {},
   "source": [
    "Exercício 1 \\\n",
    "Se jogarmos uma moeda 10 vezes, qual é a probabilidade de aparecer exatamente 7 caras?"
   ]
  },
  {
   "cell_type": "code",
   "execution_count": 27,
   "metadata": {},
   "outputs": [
    {
     "data": {
      "text/plain": [
       "0.11718750000000004"
      ]
     },
     "execution_count": 27,
     "metadata": {},
     "output_type": "execute_result"
    }
   ],
   "source": [
    "binom.pmf(7, 10, 0.5)"
   ]
  },
  {
   "attachments": {},
   "cell_type": "markdown",
   "metadata": {},
   "source": [
    "Exercício 2 \\\n",
    "Se jogarmos uma moeda 10 vezes, qual é a probabilidade de aparecer exatamente 7 ou mais caras?"
   ]
  },
  {
   "cell_type": "code",
   "execution_count": 28,
   "metadata": {},
   "outputs": [
    {
     "name": "stdout",
     "output_type": "stream",
     "text": [
      "0.1718750000000001\n",
      "0.171875\n"
     ]
    }
   ],
   "source": [
    "print(sum(binom.pmf([7, 8, 9, 10], 10, 0.5)))\n",
    "\n",
    "print(binom.cdf(3, 10, 0.5))\n"
   ]
  },
  {
   "attachments": {},
   "cell_type": "markdown",
   "metadata": {},
   "source": [
    "Exercício 3 \\\n",
    "4 peças foram selecionadas de um lote cuja probabilidade de defeito é de 10%. Qual é a probabilidade de termos 0 peças defeituosas na seleção?"
   ]
  },
  {
   "cell_type": "code",
   "execution_count": 29,
   "metadata": {},
   "outputs": [
    {
     "data": {
      "text/plain": [
       "0.6560999999999997"
      ]
     },
     "execution_count": 29,
     "metadata": {},
     "output_type": "execute_result"
    }
   ],
   "source": [
    "binom.pmf(0, 4, 0.1)"
   ]
  },
  {
   "attachments": {},
   "cell_type": "markdown",
   "metadata": {},
   "source": [
    "Exercício 4 \\\n",
    "Plote um gráfico que exiba a distribuição de probabilidade do problema descrito no exercício 3."
   ]
  },
  {
   "cell_type": "code",
   "execution_count": 30,
   "metadata": {},
   "outputs": [
    {
     "data": {
      "image/png": "[encoded data removed]",
      "text/plain": [
       "<Figure size 640x480 with 1 Axes>"
      ]
     },
     "metadata": {},
     "output_type": "display_data"
    }
   ],
   "source": [
    "x_axis = np.arange(5)\n",
    "y_axis = binom.pmf(x_axis, 4, 0.1)\n",
    "\n",
    "sns.barplot(x=x_axis, y=y_axis)\n",
    "plt.show()"
   ]
  },
  {
   "cell_type": "code",
   "execution_count": 31,
   "metadata": {},
   "outputs": [],
   "source": [
    "plt.close('all')"
   ]
  },
  {
   "cell_type": "markdown",
   "metadata": {},
   "source": [
    "Exercício 5 \\\n",
    "Um teste de múltipla escolha apresenta 4 opções por questão, e 14 questões. Se a aprovação depende de 9 ou mais respostas corretas: \\\n",
    "a) qual a probabilidade de um estudante que responde “no chute” ser aprovado? \\\n",
    "b) se 500 estudantes fazem o teste, qual o número esperado de estudantes aprovados, tendo “chutado” as respostas?"
   ]
  },
  {
   "cell_type": "code",
   "execution_count": 32,
   "metadata": {},
   "outputs": [
    {
     "name": "stdout",
     "output_type": "stream",
     "text": [
      "0.8883310295641422\n"
     ]
    },
    {
     "data": {
      "text/plain": [
       "0.002154175192117691"
      ]
     },
     "execution_count": 32,
     "metadata": {},
     "output_type": "execute_result"
    }
   ],
   "source": [
    "print(binom.cdf(5, 14, 0.25))\n",
    "\n",
    "binom.sf(8, 14, 0.25) # ✅"
   ]
  },
  {
   "cell_type": "markdown",
   "metadata": {},
   "source": [
    "Exercício 6 \\\n",
    "Um apostador que nada entende de futebol marcou um cartão de loteria esportiva, que tem 16 jogos, realizando apenas apostas simples (ou seja, marcando somente uma das três opções: time A vence, times A e B empatam, time B ganha). Plote um gráfico de barras que mostre a probabilidade de 0, 1, 2, ... 16 acertos."
   ]
  },
  {
   "cell_type": "code",
   "execution_count": 33,
   "metadata": {},
   "outputs": [
    {
     "data": {
      "image/png": "[encoded data removed]",
      "text/plain": [
       "<Figure size 640x480 with 1 Axes>"
      ]
     },
     "metadata": {},
     "output_type": "display_data"
    }
   ],
   "source": [
    "x_axis = np.arange(0, 17)\n",
    "y_axis = binom.pmf(x_axis, 16, (1/3))\n",
    "\n",
    "sns.barplot(x=x_axis, y=y_axis)\n",
    "plt.show()"
   ]
  },
  {
   "cell_type": "code",
   "execution_count": 34,
   "metadata": {},
   "outputs": [],
   "source": [
    "plt.close('all')"
   ]
  }
 ],
 "metadata": {
  "kernelspec": {
   "display_name": "base",
   "language": "python",
   "name": "python3"
  },
  "language_info": {
   "codemirror_mode": {
    "name": "ipython",
    "version": 3
   },
   "file_extension": ".py",
   "mimetype": "text/x-python",
   "name": "python",
   "nbconvert_exporter": "python",
   "pygments_lexer": "ipython3",
   "version": "3.13.5"
  },
  "orig_nbformat": 4,
  "vscode": {
   "interpreter": {
    "hash": "375cb2be7c48c11bb855aa4c37dc6c17bef886eb77cae35fc21e121628c6e1e2"
   }
  }
 },
 "nbformat": 4,
 "nbformat_minor": 2
}
