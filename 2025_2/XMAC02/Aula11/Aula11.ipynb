{
 "cells": [
  {
   "cell_type": "markdown",
   "id": "312b2339",
   "metadata": {},
   "source": [
    "## Crosstab - Cross Tabulation\n",
    "Fornece um resumo tabular da distribuição de frequência de duas variáveis, permitindo-nos ver a relação entre elas e identificar quaisquer padrões ou tendências.\n",
    "\n",
    "Esta função permite calcular uma tabela de frequência de duas ou mais variáveis, que resume a distribuição dos valores nos dados e fornece insights sobre as relações entre as variáveis. A tabulação cruzada (ou crosstab) é uma ferramenta importante para analisar duas variáveis ​​categóricas em um conjunto de dados.\n",
    "\n",
    "Uma tabela de frequência é uma tabela que mostra a distribuição de valores em um conjunto de dados, contando o número de ocorrências de cada valor. Por exemplo, suponha que temos um conjunto de dados de alunos que contém informações sobre gênero e nível de escolaridade. Uma tabela de frequência de gênero e nível de escolaridade resumiria o número de alunos do sexo masculino e feminino em cada categoria de nível de escolaridade."
   ]
  },
  {
   "cell_type": "markdown",
   "id": "774927fe",
   "metadata": {},
   "source": [
    "O uso básico da função crosstab() é o seguinte:\n",
    "\n",
    "pd.crosstab(index, columns, values=None, rownames=None, colnames=None, aggfunc=None, margins=False, margins_name='All', dropna=True, normalize=False)\n",
    "\n",
    "Onde:\n",
    "\n",
    "-index: Um objeto em forma de sequência ou matriz que define as linhas da tabela de frequência. Este parâmetro pode ser um único nome de coluna, uma lista de nomes de colunas ou uma matriz de valores.\n",
    "\n",
    "-columns: Um objeto em forma de sequência ou matriz que define as colunas da tabela de frequência. Este parâmetro pode ser um único nome de coluna, uma lista de nomes de colunas ou uma matriz de valores.\n",
    "\n",
    "-values: Um parâmetro opcional que especifica os valores a serem agregados na tabela de frequência. Este parâmetro pode ser um único nome de coluna, uma lista de nomes de colunas ou uma matriz de valores. Se não for fornecido, a função contará o número de ocorrências de cada combinação de valores no índice e nas colunas.\n",
    "\n",
    "-rownames: Um parâmetro opcional que especifica os nomes das linhas na tabela de frequência. Este parâmetro pode ser uma única string ou uma lista de strings.\n",
    "\n",
    "-colnames: Um parâmetro opcional que especifica os nomes das colunas na tabela de frequência. Este parâmetro pode ser uma única string ou uma lista de strings.\n",
    "\n",
    "-aggfunc: Um parâmetro opcional que especifica a função de agregação a ser aplicada aos valores na tabela de frequência. Este parâmetro pode ser uma string ou um objeto chamável que recebe uma sequência de valores e retorna um valor escalar. Se não for fornecido, a função contará o número de ocorrências de cada combinação de valores no índice e nas colunas.\n",
    "\n",
    "-margins: Um parâmetro opcional que especifica se as margens de linha e coluna devem ser calculadas na tabela de frequência. Se definido como True, a função adicionará uma linha e uma coluna à tabela que mostra os totais marginais. O valor padrão é False.\n",
    "\n",
    "-dropna: Um parâmetro opcional que especifica se as linhas e colunas que contêm valores ausentes (valores NaN) devem ser removidas da tabela de frequência. Se definido como True, a função removerá as linhas e colunas que contêm valores ausentes. O valor padrão é True.\n",
    "\n",
    "-normalize: Um parâmetro opcional que especifica se a tabela de frequência deve ser normalizada dividindo os valores pelo total geral. Se definido como True, a função normalizará a tabela dividindo cada valor pela soma de todos os valores. O valor padrão é False."
   ]
  },
  {
   "cell_type": "code",
   "execution_count": 49,
   "id": "c8d994f7",
   "metadata": {},
   "outputs": [],
   "source": [
    "import pandas as pd\n",
    "import seaborn as sns\n",
    "import matplotlib.pyplot as plt"
   ]
  },
  {
   "cell_type": "markdown",
   "id": "ca736d71",
   "metadata": {},
   "source": [
    "### Exemplo 1: Criando um Crosstab simples\n",
    "Vamos começar com um exemplo simples para criar uma tabela de tabulação cruzada com duas variáveis: gênero e nível de escolaridade. Usaremos um conjunto de dados de alunos que contém informações sobre gênero, nível de escolaridade e notas em testes."
   ]
  },
  {
   "cell_type": "code",
   "execution_count": 50,
   "id": "58c98363",
   "metadata": {},
   "outputs": [
    {
     "name": "stdout",
     "output_type": "stream",
     "text": [
      "   gender education_level  score\n",
      "0    male     high school     75\n",
      "1    male         college     82\n",
      "2  female         college     88\n",
      "3  female        graduate     95\n",
      "4    male     high school     69\n",
      "5  female        graduate     92\n",
      "6    male         college     78\n",
      "7  female        graduate     85\n",
      "\n"
     ]
    },
    {
     "data": {
      "text/html": [
       "<div>\n",
       "<style scoped>\n",
       "    .dataframe tbody tr th:only-of-type {\n",
       "        vertical-align: middle;\n",
       "    }\n",
       "\n",
       "    .dataframe tbody tr th {\n",
       "        vertical-align: top;\n",
       "    }\n",
       "\n",
       "    .dataframe thead th {\n",
       "        text-align: right;\n",
       "    }\n",
       "</style>\n",
       "<table border=\"1\" class=\"dataframe\">\n",
       "  <thead>\n",
       "    <tr style=\"text-align: right;\">\n",
       "      <th>education_level</th>\n",
       "      <th>college</th>\n",
       "      <th>graduate</th>\n",
       "      <th>high school</th>\n",
       "    </tr>\n",
       "    <tr>\n",
       "      <th>gender</th>\n",
       "      <th></th>\n",
       "      <th></th>\n",
       "      <th></th>\n",
       "    </tr>\n",
       "  </thead>\n",
       "  <tbody>\n",
       "    <tr>\n",
       "      <th>female</th>\n",
       "      <td>1</td>\n",
       "      <td>3</td>\n",
       "      <td>0</td>\n",
       "    </tr>\n",
       "    <tr>\n",
       "      <th>male</th>\n",
       "      <td>2</td>\n",
       "      <td>0</td>\n",
       "      <td>2</td>\n",
       "    </tr>\n",
       "  </tbody>\n",
       "</table>\n",
       "</div>"
      ],
      "text/plain": [
       "education_level  college  graduate  high school\n",
       "gender                                         \n",
       "female                 1         3            0\n",
       "male                   2         0            2"
      ]
     },
     "execution_count": 50,
     "metadata": {},
     "output_type": "execute_result"
    }
   ],
   "source": [
    "\n",
    "# criando um dataset\n",
    "df = pd.DataFrame({\n",
    "    'gender': ['male', 'male', 'female', 'female', 'male', 'female', 'male', 'female'],\n",
    "    'education_level': ['high school', 'college', 'college', 'graduate', 'high school', 'graduate', 'college', 'graduate'],\n",
    "    'score': [75, 82, 88, 95, 69, 92, 78, 85]\n",
    "})\n",
    "\n",
    "# Visualizando o dataframe\n",
    "print(df)\n",
    "print()\n",
    "\n",
    "ct = pd.crosstab(df['gender'], df['education_level'])\n",
    "ct"
   ]
  },
  {
   "cell_type": "markdown",
   "id": "1bdcc080",
   "metadata": {},
   "source": [
    "Neste exemplo, criamos uma tabela de tabulação cruzada de gênero e nível de escolaridade passando a coluna gender como índice e a coluna education_level como colunas para a função crosstab(). A função conta o número de ocorrências de cada combinação de valores e retorna uma tabela que resume a distribuição de alunos por gênero e nível de escolaridade."
   ]
  },
  {
   "cell_type": "markdown",
   "id": "21913f30",
   "metadata": {},
   "source": [
    "### Exemplo 2: Agregando valores\n",
    "Além de contar o número de ocorrências de cada combinação de valores, a função crosstab() permite agregar outros valores na tabela. Por exemplo, você pode calcular a nota média dos alunos em cada combinação de gênero e nível de escolaridade.\n"
   ]
  },
  {
   "cell_type": "code",
   "execution_count": 51,
   "id": "f2f4ec3c",
   "metadata": {},
   "outputs": [
    {
     "data": {
      "text/html": [
       "<div>\n",
       "<style scoped>\n",
       "    .dataframe tbody tr th:only-of-type {\n",
       "        vertical-align: middle;\n",
       "    }\n",
       "\n",
       "    .dataframe tbody tr th {\n",
       "        vertical-align: top;\n",
       "    }\n",
       "\n",
       "    .dataframe thead th {\n",
       "        text-align: right;\n",
       "    }\n",
       "</style>\n",
       "<table border=\"1\" class=\"dataframe\">\n",
       "  <thead>\n",
       "    <tr style=\"text-align: right;\">\n",
       "      <th>education_level</th>\n",
       "      <th>college</th>\n",
       "      <th>graduate</th>\n",
       "      <th>high school</th>\n",
       "    </tr>\n",
       "    <tr>\n",
       "      <th>gender</th>\n",
       "      <th></th>\n",
       "      <th></th>\n",
       "      <th></th>\n",
       "    </tr>\n",
       "  </thead>\n",
       "  <tbody>\n",
       "    <tr>\n",
       "      <th>female</th>\n",
       "      <td>88.0</td>\n",
       "      <td>90.666667</td>\n",
       "      <td>NaN</td>\n",
       "    </tr>\n",
       "    <tr>\n",
       "      <th>male</th>\n",
       "      <td>80.0</td>\n",
       "      <td>NaN</td>\n",
       "      <td>72.0</td>\n",
       "    </tr>\n",
       "  </tbody>\n",
       "</table>\n",
       "</div>"
      ],
      "text/plain": [
       "education_level  college   graduate  high school\n",
       "gender                                          \n",
       "female              88.0  90.666667          NaN\n",
       "male                80.0        NaN         72.0"
      ]
     },
     "execution_count": 51,
     "metadata": {},
     "output_type": "execute_result"
    }
   ],
   "source": [
    "ct = pd.crosstab(df['gender'], df['education_level'], df['score'], aggfunc='mean')\n",
    "ct"
   ]
  },
  {
   "cell_type": "markdown",
   "id": "2612b40c",
   "metadata": {},
   "source": [
    "Neste exemplo, adicionamos o parâmetro values ​​à função crosstab() e o definimos como a coluna score. Também adicionamos o parâmetro aggfunc e o definimos como \"mean\", que calcula a pontuação média dos alunos em cada combinação de gênero e nível educacional."
   ]
  },
  {
   "cell_type": "code",
   "execution_count": 52,
   "id": "7b31e0c9",
   "metadata": {},
   "outputs": [
    {
     "data": {
      "text/html": [
       "<div>\n",
       "<style scoped>\n",
       "    .dataframe tbody tr th:only-of-type {\n",
       "        vertical-align: middle;\n",
       "    }\n",
       "\n",
       "    .dataframe tbody tr th {\n",
       "        vertical-align: top;\n",
       "    }\n",
       "\n",
       "    .dataframe thead th {\n",
       "        text-align: right;\n",
       "    }\n",
       "</style>\n",
       "<table border=\"1\" class=\"dataframe\">\n",
       "  <thead>\n",
       "    <tr style=\"text-align: right;\">\n",
       "      <th>education_level</th>\n",
       "      <th>college</th>\n",
       "      <th>graduate</th>\n",
       "      <th>high school</th>\n",
       "      <th>All</th>\n",
       "    </tr>\n",
       "    <tr>\n",
       "      <th>gender</th>\n",
       "      <th></th>\n",
       "      <th></th>\n",
       "      <th></th>\n",
       "      <th></th>\n",
       "    </tr>\n",
       "  </thead>\n",
       "  <tbody>\n",
       "    <tr>\n",
       "      <th>female</th>\n",
       "      <td>1</td>\n",
       "      <td>3</td>\n",
       "      <td>0</td>\n",
       "      <td>4</td>\n",
       "    </tr>\n",
       "    <tr>\n",
       "      <th>male</th>\n",
       "      <td>2</td>\n",
       "      <td>0</td>\n",
       "      <td>2</td>\n",
       "      <td>4</td>\n",
       "    </tr>\n",
       "    <tr>\n",
       "      <th>All</th>\n",
       "      <td>3</td>\n",
       "      <td>3</td>\n",
       "      <td>2</td>\n",
       "      <td>8</td>\n",
       "    </tr>\n",
       "  </tbody>\n",
       "</table>\n",
       "</div>"
      ],
      "text/plain": [
       "education_level  college  graduate  high school  All\n",
       "gender                                              \n",
       "female                 1         3            0    4\n",
       "male                   2         0            2    4\n",
       "All                    3         3            2    8"
      ]
     },
     "execution_count": 52,
     "metadata": {},
     "output_type": "execute_result"
    }
   ],
   "source": [
    "ct_margins = pd.crosstab(df['gender'], df['education_level'], margins=True)\n",
    "ct_margins"
   ]
  },
  {
   "cell_type": "markdown",
   "id": "0516f919",
   "metadata": {},
   "source": [
    "Agora podemos criar um mapa de calor usando a função heatmap do seaborn"
   ]
  },
  {
   "cell_type": "code",
   "execution_count": 53,
   "id": "9f51af89",
   "metadata": {},
   "outputs": [
    {
     "data": {
      "text/plain": [
       "<Axes: xlabel='education_level', ylabel='gender'>"
      ]
     },
     "execution_count": 53,
     "metadata": {},
     "output_type": "execute_result"
    },
    {
     "data": {
      "image/png": "[encoded data removed]",
      "text/plain": [
       "<Figure size 640x480 with 2 Axes>"
      ]
     },
     "metadata": {},
     "output_type": "display_data"
    }
   ],
   "source": [
    "sns.heatmap(ct_margins,cmap='coolwarm', annot=True)"
   ]
  },
  {
   "cell_type": "markdown",
   "id": "3f384831",
   "metadata": {},
   "source": [
    "Neste exemplo, adicionamos o parâmetro margins à função crosstab() e o definimos como True. A tabela resultante inclui margens de linha e coluna que mostram as contagens totais para cada linha e coluna, bem como a contagem total geral para toda a tabela."
   ]
  },
  {
   "cell_type": "markdown",
   "id": "99808a93",
   "metadata": {},
   "source": [
    "### Exemplo 4: Normalização\n",
    "A função crosstab() também permite normalizar a tabela dividindo os valores pelo total geral. Isso pode ser útil para comparar as frequências relativas de diferentes combinações de variáveis."
   ]
  },
  {
   "cell_type": "code",
   "execution_count": 54,
   "id": "4e72d58e",
   "metadata": {},
   "outputs": [
    {
     "data": {
      "text/html": [
       "<div>\n",
       "<style scoped>\n",
       "    .dataframe tbody tr th:only-of-type {\n",
       "        vertical-align: middle;\n",
       "    }\n",
       "\n",
       "    .dataframe tbody tr th {\n",
       "        vertical-align: top;\n",
       "    }\n",
       "\n",
       "    .dataframe thead th {\n",
       "        text-align: right;\n",
       "    }\n",
       "</style>\n",
       "<table border=\"1\" class=\"dataframe\">\n",
       "  <thead>\n",
       "    <tr style=\"text-align: right;\">\n",
       "      <th>education_level</th>\n",
       "      <th>college</th>\n",
       "      <th>graduate</th>\n",
       "      <th>high school</th>\n",
       "      <th>All</th>\n",
       "    </tr>\n",
       "    <tr>\n",
       "      <th>gender</th>\n",
       "      <th></th>\n",
       "      <th></th>\n",
       "      <th></th>\n",
       "      <th></th>\n",
       "    </tr>\n",
       "  </thead>\n",
       "  <tbody>\n",
       "    <tr>\n",
       "      <th>female</th>\n",
       "      <td>0.125</td>\n",
       "      <td>0.375</td>\n",
       "      <td>0.00</td>\n",
       "      <td>0.5</td>\n",
       "    </tr>\n",
       "    <tr>\n",
       "      <th>male</th>\n",
       "      <td>0.250</td>\n",
       "      <td>0.000</td>\n",
       "      <td>0.25</td>\n",
       "      <td>0.5</td>\n",
       "    </tr>\n",
       "    <tr>\n",
       "      <th>All</th>\n",
       "      <td>0.375</td>\n",
       "      <td>0.375</td>\n",
       "      <td>0.25</td>\n",
       "      <td>1.0</td>\n",
       "    </tr>\n",
       "  </tbody>\n",
       "</table>\n",
       "</div>"
      ],
      "text/plain": [
       "education_level  college  graduate  high school  All\n",
       "gender                                              \n",
       "female             0.125     0.375         0.00  0.5\n",
       "male               0.250     0.000         0.25  0.5\n",
       "All                0.375     0.375         0.25  1.0"
      ]
     },
     "execution_count": 54,
     "metadata": {},
     "output_type": "execute_result"
    }
   ],
   "source": [
    "ct_norm = pd.crosstab(df['gender'], df['education_level'], margins=True, normalize=True)\n",
    "ct_norm"
   ]
  },
  {
   "cell_type": "markdown",
   "id": "46f304de",
   "metadata": {},
   "source": [
    "Neste exemplo, adicionamos o parâmetro normalize à função crosstab() e o definimos como True. A tabela resultante mostra as proporções de cada combinação de gênero e nível de escolaridade, normalizadas pela contagem total geral de todos os alunos."
   ]
  },
  {
   "cell_type": "markdown",
   "id": "0f034e3e",
   "metadata": {},
   "source": [
    "### Exemplo 5: Visualização de dados\n",
    "Vamos agora usar a função crosstab() para criar visualizações dos dados. Por exemplo, você pode criar um gráfico de barras empilhadas para mostrar a distribuição dos alunos por gênero e nível de escolaridade."
   ]
  },
  {
   "cell_type": "code",
   "execution_count": 55,
   "id": "f71aa3aa",
   "metadata": {},
   "outputs": [
    {
     "data": {
      "image/png": "[encoded data removed]",
      "text/plain": [
       "<Figure size 640x480 with 1 Axes>"
      ]
     },
     "metadata": {},
     "output_type": "display_data"
    }
   ],
   "source": [
    "ct_viz = pd.crosstab(df['gender'], df['education_level'])\n",
    "\n",
    "ct_viz.plot(kind='bar', stacked=True)\n",
    "plt.show()"
   ]
  },
  {
   "cell_type": "markdown",
   "id": "db0a4de4",
   "metadata": {},
   "source": [
    "Neste exemplo, usamos a função plot() da tabela de tabulação cruzada para criar um gráfico de barras empilhadas que mostra a distribuição dos alunos por gênero e nível de escolaridade. O gráfico resultante é uma visualização útil que permite comparar rapidamente as proporções de alunos em diferentes categorias."
   ]
  },
  {
   "cell_type": "markdown",
   "id": "c55b423a",
   "metadata": {},
   "source": [
    "### Exemplo 6: Função de agregação\n",
    "Suponha que queremos calcular a nota média dos alunos por gênero e nível de escolaridade. Podemos usar a função crosstab() com o parâmetro aggfunc definido como np.mean para calcular a nota média para cada combinação de gênero e nível de escolaridade."
   ]
  },
  {
   "cell_type": "code",
   "execution_count": 56,
   "id": "7920ef19",
   "metadata": {},
   "outputs": [
    {
     "name": "stdout",
     "output_type": "stream",
     "text": [
      "education_level  college   graduate  high school\n",
      "gender                                          \n",
      "female              88.0  90.666667          NaN\n",
      "male                80.0        NaN         72.0\n"
     ]
    }
   ],
   "source": [
    "ct_agg = pd.crosstab(df['gender'], df['education_level'], values=df['score'], aggfunc='mean')\n",
    "print(ct_agg)"
   ]
  },
  {
   "cell_type": "markdown",
   "id": "f66ce3fd",
   "metadata": {},
   "source": [
    "Neste exemplo, adicionamos o parâmetro values ​​à função crosstab() e o definimos como df['score'] para especificar que queremos aplicar a função mean aos valores de nota. A tabela resultante mostra a nota média para cada combinação de gênero e nível de escolaridade.\n",
    "\n",
    "O parâmetro aggfunc pode assumir qualquer função de agregação válida, como sum, max, min, median, std, var, etc. Isso permite aplicar uma ampla gama de funções estatísticas aos valores da tabela de crosstab, fornecendo ainda mais informações sobre as relações entre diferentes variáveis ​​categóricas."
   ]
  },
  {
   "cell_type": "markdown",
   "id": "7c19db64",
   "metadata": {},
   "source": [
    "### Exercícios\n",
    "Nos próximos exercícios, vocês devem usar o dataset 'taxis' do Seaborn."
   ]
  },
  {
   "cell_type": "code",
   "execution_count": 57,
   "id": "ee9e1b10",
   "metadata": {},
   "outputs": [
    {
     "data": {
      "text/html": [
       "<div>\n",
       "<style scoped>\n",
       "    .dataframe tbody tr th:only-of-type {\n",
       "        vertical-align: middle;\n",
       "    }\n",
       "\n",
       "    .dataframe tbody tr th {\n",
       "        vertical-align: top;\n",
       "    }\n",
       "\n",
       "    .dataframe thead th {\n",
       "        text-align: right;\n",
       "    }\n",
       "</style>\n",
       "<table border=\"1\" class=\"dataframe\">\n",
       "  <thead>\n",
       "    <tr style=\"text-align: right;\">\n",
       "      <th></th>\n",
       "      <th>pickup</th>\n",
       "      <th>dropoff</th>\n",
       "      <th>passengers</th>\n",
       "      <th>distance</th>\n",
       "      <th>fare</th>\n",
       "      <th>tip</th>\n",
       "      <th>tolls</th>\n",
       "      <th>total</th>\n",
       "      <th>color</th>\n",
       "      <th>payment</th>\n",
       "      <th>pickup_zone</th>\n",
       "      <th>dropoff_zone</th>\n",
       "      <th>pickup_borough</th>\n",
       "      <th>dropoff_borough</th>\n",
       "    </tr>\n",
       "  </thead>\n",
       "  <tbody>\n",
       "    <tr>\n",
       "      <th>0</th>\n",
       "      <td>2019-03-23 20:21:09</td>\n",
       "      <td>2019-03-23 20:27:24</td>\n",
       "      <td>1</td>\n",
       "      <td>1.60</td>\n",
       "      <td>7.0</td>\n",
       "      <td>2.15</td>\n",
       "      <td>0.0</td>\n",
       "      <td>12.95</td>\n",
       "      <td>yellow</td>\n",
       "      <td>credit card</td>\n",
       "      <td>Lenox Hill West</td>\n",
       "      <td>UN/Turtle Bay South</td>\n",
       "      <td>Manhattan</td>\n",
       "      <td>Manhattan</td>\n",
       "    </tr>\n",
       "    <tr>\n",
       "      <th>1</th>\n",
       "      <td>2019-03-04 16:11:55</td>\n",
       "      <td>2019-03-04 16:19:00</td>\n",
       "      <td>1</td>\n",
       "      <td>0.79</td>\n",
       "      <td>5.0</td>\n",
       "      <td>0.00</td>\n",
       "      <td>0.0</td>\n",
       "      <td>9.30</td>\n",
       "      <td>yellow</td>\n",
       "      <td>cash</td>\n",
       "      <td>Upper West Side South</td>\n",
       "      <td>Upper West Side South</td>\n",
       "      <td>Manhattan</td>\n",
       "      <td>Manhattan</td>\n",
       "    </tr>\n",
       "    <tr>\n",
       "      <th>2</th>\n",
       "      <td>2019-03-27 17:53:01</td>\n",
       "      <td>2019-03-27 18:00:25</td>\n",
       "      <td>1</td>\n",
       "      <td>1.37</td>\n",
       "      <td>7.5</td>\n",
       "      <td>2.36</td>\n",
       "      <td>0.0</td>\n",
       "      <td>14.16</td>\n",
       "      <td>yellow</td>\n",
       "      <td>credit card</td>\n",
       "      <td>Alphabet City</td>\n",
       "      <td>West Village</td>\n",
       "      <td>Manhattan</td>\n",
       "      <td>Manhattan</td>\n",
       "    </tr>\n",
       "    <tr>\n",
       "      <th>3</th>\n",
       "      <td>2019-03-10 01:23:59</td>\n",
       "      <td>2019-03-10 01:49:51</td>\n",
       "      <td>1</td>\n",
       "      <td>7.70</td>\n",
       "      <td>27.0</td>\n",
       "      <td>6.15</td>\n",
       "      <td>0.0</td>\n",
       "      <td>36.95</td>\n",
       "      <td>yellow</td>\n",
       "      <td>credit card</td>\n",
       "      <td>Hudson Sq</td>\n",
       "      <td>Yorkville West</td>\n",
       "      <td>Manhattan</td>\n",
       "      <td>Manhattan</td>\n",
       "    </tr>\n",
       "    <tr>\n",
       "      <th>4</th>\n",
       "      <td>2019-03-30 13:27:42</td>\n",
       "      <td>2019-03-30 13:37:14</td>\n",
       "      <td>3</td>\n",
       "      <td>2.16</td>\n",
       "      <td>9.0</td>\n",
       "      <td>1.10</td>\n",
       "      <td>0.0</td>\n",
       "      <td>13.40</td>\n",
       "      <td>yellow</td>\n",
       "      <td>credit card</td>\n",
       "      <td>Midtown East</td>\n",
       "      <td>Yorkville West</td>\n",
       "      <td>Manhattan</td>\n",
       "      <td>Manhattan</td>\n",
       "    </tr>\n",
       "  </tbody>\n",
       "</table>\n",
       "</div>"
      ],
      "text/plain": [
       "               pickup             dropoff  passengers  distance  fare   tip  \\\n",
       "0 2019-03-23 20:21:09 2019-03-23 20:27:24           1      1.60   7.0  2.15   \n",
       "1 2019-03-04 16:11:55 2019-03-04 16:19:00           1      0.79   5.0  0.00   \n",
       "2 2019-03-27 17:53:01 2019-03-27 18:00:25           1      1.37   7.5  2.36   \n",
       "3 2019-03-10 01:23:59 2019-03-10 01:49:51           1      7.70  27.0  6.15   \n",
       "4 2019-03-30 13:27:42 2019-03-30 13:37:14           3      2.16   9.0  1.10   \n",
       "\n",
       "   tolls  total   color      payment            pickup_zone  \\\n",
       "0    0.0  12.95  yellow  credit card        Lenox Hill West   \n",
       "1    0.0   9.30  yellow         cash  Upper West Side South   \n",
       "2    0.0  14.16  yellow  credit card          Alphabet City   \n",
       "3    0.0  36.95  yellow  credit card              Hudson Sq   \n",
       "4    0.0  13.40  yellow  credit card           Midtown East   \n",
       "\n",
       "            dropoff_zone pickup_borough dropoff_borough  \n",
       "0    UN/Turtle Bay South      Manhattan       Manhattan  \n",
       "1  Upper West Side South      Manhattan       Manhattan  \n",
       "2           West Village      Manhattan       Manhattan  \n",
       "3         Yorkville West      Manhattan       Manhattan  \n",
       "4         Yorkville West      Manhattan       Manhattan  "
      ]
     },
     "execution_count": 57,
     "metadata": {},
     "output_type": "execute_result"
    }
   ],
   "source": [
    "df = sns.load_dataset('taxis')\n",
    "df.head()"
   ]
  },
  {
   "cell_type": "markdown",
   "id": "5232e131",
   "metadata": {},
   "source": [
    "Como é possível observar, o dataset 'taxis' mostra informações sobre corridas de táxi, informando a hora e o local de início e fim de cada corrida, informações sobre o preço da corrida e a forma de pagamento utilizada."
   ]
  },
  {
   "cell_type": "markdown",
   "id": "f3368878",
   "metadata": {},
   "source": [
    "### Exercício 1\n",
    "Crie uma tabela que informe a quantidade de vezes que cada tipo de pagamento foi utilizado em cada local de início (pickup_borough)."
   ]
  },
  {
   "cell_type": "code",
   "execution_count": 58,
   "id": "315f4fe5",
   "metadata": {},
   "outputs": [
    {
     "data": {
      "text/html": [
       "<div>\n",
       "<style scoped>\n",
       "    .dataframe tbody tr th:only-of-type {\n",
       "        vertical-align: middle;\n",
       "    }\n",
       "\n",
       "    .dataframe tbody tr th {\n",
       "        vertical-align: top;\n",
       "    }\n",
       "\n",
       "    .dataframe thead th {\n",
       "        text-align: right;\n",
       "    }\n",
       "</style>\n",
       "<table border=\"1\" class=\"dataframe\">\n",
       "  <thead>\n",
       "    <tr style=\"text-align: right;\">\n",
       "      <th>Zone</th>\n",
       "      <th>Bronx</th>\n",
       "      <th>Brooklyn</th>\n",
       "      <th>Manhattan</th>\n",
       "      <th>Queens</th>\n",
       "    </tr>\n",
       "    <tr>\n",
       "      <th>Payment type</th>\n",
       "      <th></th>\n",
       "      <th></th>\n",
       "      <th></th>\n",
       "      <th></th>\n",
       "    </tr>\n",
       "  </thead>\n",
       "  <tbody>\n",
       "    <tr>\n",
       "      <th>cash</th>\n",
       "      <td>25</td>\n",
       "      <td>119</td>\n",
       "      <td>1397</td>\n",
       "      <td>266</td>\n",
       "    </tr>\n",
       "    <tr>\n",
       "      <th>credit card</th>\n",
       "      <td>74</td>\n",
       "      <td>261</td>\n",
       "      <td>3839</td>\n",
       "      <td>383</td>\n",
       "    </tr>\n",
       "  </tbody>\n",
       "</table>\n",
       "</div>"
      ],
      "text/plain": [
       "Zone          Bronx  Brooklyn  Manhattan  Queens\n",
       "Payment type                                    \n",
       "cash             25       119       1397     266\n",
       "credit card      74       261       3839     383"
      ]
     },
     "execution_count": 58,
     "metadata": {},
     "output_type": "execute_result"
    }
   ],
   "source": [
    "ct_payment_pb = pd.crosstab(df['payment'], df['pickup_borough'], colnames=['Zone'], rownames=['Payment type'])\n",
    "ct_payment_pb\n"
   ]
  },
  {
   "cell_type": "markdown",
   "id": "84dcf2dd",
   "metadata": {},
   "source": [
    "### Exercício 2\n",
    "Crie uma tabela que mostre a distância média percorrida por tipo de pagamento."
   ]
  },
  {
   "cell_type": "code",
   "execution_count": null,
   "id": "92bf8500",
   "metadata": {},
   "outputs": [
    {
     "data": {
      "text/html": [
       "<div>\n",
       "<style scoped>\n",
       "    .dataframe tbody tr th:only-of-type {\n",
       "        vertical-align: middle;\n",
       "    }\n",
       "\n",
       "    .dataframe tbody tr th {\n",
       "        vertical-align: top;\n",
       "    }\n",
       "\n",
       "    .dataframe thead th {\n",
       "        text-align: right;\n",
       "    }\n",
       "</style>\n",
       "<table border=\"1\" class=\"dataframe\">\n",
       "  <thead>\n",
       "    <tr style=\"text-align: right;\">\n",
       "      <th>payment</th>\n",
       "      <th>cash</th>\n",
       "      <th>credit card</th>\n",
       "    </tr>\n",
       "    <tr>\n",
       "      <th>pickup_borough</th>\n",
       "      <th></th>\n",
       "      <th></th>\n",
       "    </tr>\n",
       "  </thead>\n",
       "  <tbody>\n",
       "    <tr>\n",
       "      <th>Bronx</th>\n",
       "      <td>2.117600</td>\n",
       "      <td>6.944865</td>\n",
       "    </tr>\n",
       "    <tr>\n",
       "      <th>Brooklyn</th>\n",
       "      <td>2.322857</td>\n",
       "      <td>4.891379</td>\n",
       "    </tr>\n",
       "    <tr>\n",
       "      <th>Manhattan</th>\n",
       "      <td>2.052212</td>\n",
       "      <td>2.460901</td>\n",
       "    </tr>\n",
       "    <tr>\n",
       "      <th>Queens</th>\n",
       "      <td>5.279135</td>\n",
       "      <td>9.036292</td>\n",
       "    </tr>\n",
       "  </tbody>\n",
       "</table>\n",
       "</div>"
      ],
      "text/plain": [
       "payment             cash  credit card\n",
       "pickup_borough                       \n",
       "Bronx           2.117600     6.944865\n",
       "Brooklyn        2.322857     4.891379\n",
       "Manhattan       2.052212     2.460901\n",
       "Queens          5.279135     9.036292"
      ]
     },
     "execution_count": 59,
     "metadata": {},
     "output_type": "execute_result"
    }
   ],
   "source": [
    "# ct_dist_payment = pd.crosstab(df['payment'], 'avg distance', values=df['distance'], aggfunc='mean')\n",
    "# ct_dist_payment\n",
    "\n",
    "pd.crosstab(df['pickup_borough'], df['payment'], values=df['distance'], aggfunc='mean') # 👀"
   ]
  },
  {
   "cell_type": "markdown",
   "id": "495ed5e4",
   "metadata": {},
   "source": [
    "### Exercício 3\n",
    "Crie uma tabela que exiba os valores pagos em dinheiro e cartão de crédito agrupados por local de partida (pickup_borough) e também totalize os valores de dinheiro e cartão, ou seja, mostre os valores somados de todas as corridas, divididos pela forma de pagamento."
   ]
  },
  {
   "cell_type": "code",
   "execution_count": null,
   "id": "db011717",
   "metadata": {},
   "outputs": [
    {
     "data": {
      "text/html": [
       "<div>\n",
       "<style scoped>\n",
       "    .dataframe tbody tr th:only-of-type {\n",
       "        vertical-align: middle;\n",
       "    }\n",
       "\n",
       "    .dataframe tbody tr th {\n",
       "        vertical-align: top;\n",
       "    }\n",
       "\n",
       "    .dataframe thead th {\n",
       "        text-align: right;\n",
       "    }\n",
       "</style>\n",
       "<table border=\"1\" class=\"dataframe\">\n",
       "  <thead>\n",
       "    <tr style=\"text-align: right;\">\n",
       "      <th>payment</th>\n",
       "      <th>cash</th>\n",
       "      <th>credit card</th>\n",
       "      <th>Total</th>\n",
       "    </tr>\n",
       "    <tr>\n",
       "      <th>pickup_borough</th>\n",
       "      <th></th>\n",
       "      <th></th>\n",
       "      <th></th>\n",
       "    </tr>\n",
       "  </thead>\n",
       "  <tbody>\n",
       "    <tr>\n",
       "      <th>Bronx</th>\n",
       "      <td>256.30</td>\n",
       "      <td>1997.46</td>\n",
       "      <td>2253.76</td>\n",
       "    </tr>\n",
       "    <tr>\n",
       "      <th>Brooklyn</th>\n",
       "      <td>1493.45</td>\n",
       "      <td>5791.43</td>\n",
       "      <td>7284.88</td>\n",
       "    </tr>\n",
       "    <tr>\n",
       "      <th>Manhattan</th>\n",
       "      <td>19076.13</td>\n",
       "      <td>68305.24</td>\n",
       "      <td>87381.37</td>\n",
       "    </tr>\n",
       "    <tr>\n",
       "      <th>Queens</th>\n",
       "      <td>5735.57</td>\n",
       "      <td>14931.96</td>\n",
       "      <td>20667.53</td>\n",
       "    </tr>\n",
       "    <tr>\n",
       "      <th>Total</th>\n",
       "      <td>26561.45</td>\n",
       "      <td>91026.09</td>\n",
       "      <td>117587.54</td>\n",
       "    </tr>\n",
       "  </tbody>\n",
       "</table>\n",
       "</div>"
      ],
      "text/plain": [
       "payment             cash  credit card      Total\n",
       "pickup_borough                                  \n",
       "Bronx             256.30      1997.46    2253.76\n",
       "Brooklyn         1493.45      5791.43    7284.88\n",
       "Manhattan       19076.13     68305.24   87381.37\n",
       "Queens           5735.57     14931.96   20667.53\n",
       "Total           26561.45     91026.09  117587.54"
      ]
     },
     "execution_count": 60,
     "metadata": {},
     "output_type": "execute_result"
    }
   ],
   "source": [
    "# ct_payment_pb_all = pd.crosstab(df['payment'], df['pickup_borough'], margins=True)\n",
    "# ct_payment_pb_all\n",
    "\n",
    "pd.crosstab(df['pickup_borough'], df['payment'], values=df['total'], aggfunc='sum', margins=True, margins_name='Total') # 👀\n"
   ]
  },
  {
   "cell_type": "markdown",
   "id": "279662a8",
   "metadata": {},
   "source": [
    "### Exercício 4\n",
    "Crie uma tabela que mostre a divisão percentual dos valores gastos por local de partida (pickup_borough)"
   ]
  },
  {
   "cell_type": "code",
   "execution_count": 61,
   "id": "2c81ac55",
   "metadata": {},
   "outputs": [
    {
     "data": {
      "text/html": [
       "<div>\n",
       "<style scoped>\n",
       "    .dataframe tbody tr th:only-of-type {\n",
       "        vertical-align: middle;\n",
       "    }\n",
       "\n",
       "    .dataframe tbody tr th {\n",
       "        vertical-align: top;\n",
       "    }\n",
       "\n",
       "    .dataframe thead th {\n",
       "        text-align: right;\n",
       "    }\n",
       "</style>\n",
       "<table border=\"1\" class=\"dataframe\">\n",
       "  <thead>\n",
       "    <tr style=\"text-align: right;\">\n",
       "      <th>payment</th>\n",
       "      <th>cash</th>\n",
       "      <th>credit card</th>\n",
       "    </tr>\n",
       "    <tr>\n",
       "      <th>pickup_borough</th>\n",
       "      <th></th>\n",
       "      <th></th>\n",
       "    </tr>\n",
       "  </thead>\n",
       "  <tbody>\n",
       "    <tr>\n",
       "      <th>Bronx</th>\n",
       "      <td>0.002180</td>\n",
       "      <td>0.016987</td>\n",
       "    </tr>\n",
       "    <tr>\n",
       "      <th>Brooklyn</th>\n",
       "      <td>0.012701</td>\n",
       "      <td>0.049252</td>\n",
       "    </tr>\n",
       "    <tr>\n",
       "      <th>Manhattan</th>\n",
       "      <td>0.162229</td>\n",
       "      <td>0.580888</td>\n",
       "    </tr>\n",
       "    <tr>\n",
       "      <th>Queens</th>\n",
       "      <td>0.048777</td>\n",
       "      <td>0.126986</td>\n",
       "    </tr>\n",
       "  </tbody>\n",
       "</table>\n",
       "</div>"
      ],
      "text/plain": [
       "payment             cash  credit card\n",
       "pickup_borough                       \n",
       "Bronx           0.002180     0.016987\n",
       "Brooklyn        0.012701     0.049252\n",
       "Manhattan       0.162229     0.580888\n",
       "Queens          0.048777     0.126986"
      ]
     },
     "execution_count": 61,
     "metadata": {},
     "output_type": "execute_result"
    }
   ],
   "source": [
    "# ct_total_pb = pd.crosstab(df['pickup_borough'], 'Spent value', values=df['total'], normalize=True) # 🖕\n",
    "# ct_total_pb\n",
    "\n",
    "pd.crosstab(df['pickup_borough'], df['payment'], values=df['total'], aggfunc='sum', normalize=True) # 👀\n"
   ]
  },
  {
   "cell_type": "markdown",
   "id": "f32a0e8e",
   "metadata": {},
   "source": [
    "___"
   ]
  },
  {
   "cell_type": "markdown",
   "id": "311f3f93",
   "metadata": {},
   "source": [
    "### Groupby\n",
    "O método groupby permite agrupar linhas de dados e chamar funções de agregação.\n",
    "\n",
    "Vamos começar criando um dataframe contendo empresas, pessoas e quantidade de vendas das pessoas."
   ]
  },
  {
   "cell_type": "code",
   "execution_count": 62,
   "id": "ed2b552f",
   "metadata": {},
   "outputs": [
    {
     "data": {
      "text/html": [
       "<div>\n",
       "<style scoped>\n",
       "    .dataframe tbody tr th:only-of-type {\n",
       "        vertical-align: middle;\n",
       "    }\n",
       "\n",
       "    .dataframe tbody tr th {\n",
       "        vertical-align: top;\n",
       "    }\n",
       "\n",
       "    .dataframe thead th {\n",
       "        text-align: right;\n",
       "    }\n",
       "</style>\n",
       "<table border=\"1\" class=\"dataframe\">\n",
       "  <thead>\n",
       "    <tr style=\"text-align: right;\">\n",
       "      <th></th>\n",
       "      <th>Company</th>\n",
       "      <th>Person</th>\n",
       "      <th>Sales</th>\n",
       "    </tr>\n",
       "  </thead>\n",
       "  <tbody>\n",
       "    <tr>\n",
       "      <th>0</th>\n",
       "      <td>GOOG</td>\n",
       "      <td>Sam</td>\n",
       "      <td>200</td>\n",
       "    </tr>\n",
       "    <tr>\n",
       "      <th>1</th>\n",
       "      <td>GOOG</td>\n",
       "      <td>Charlie</td>\n",
       "      <td>120</td>\n",
       "    </tr>\n",
       "    <tr>\n",
       "      <th>2</th>\n",
       "      <td>MSFT</td>\n",
       "      <td>Amy</td>\n",
       "      <td>340</td>\n",
       "    </tr>\n",
       "    <tr>\n",
       "      <th>3</th>\n",
       "      <td>MSFT</td>\n",
       "      <td>Vanessa</td>\n",
       "      <td>124</td>\n",
       "    </tr>\n",
       "    <tr>\n",
       "      <th>4</th>\n",
       "      <td>META</td>\n",
       "      <td>Carl</td>\n",
       "      <td>243</td>\n",
       "    </tr>\n",
       "    <tr>\n",
       "      <th>5</th>\n",
       "      <td>META</td>\n",
       "      <td>Sarah</td>\n",
       "      <td>350</td>\n",
       "    </tr>\n",
       "  </tbody>\n",
       "</table>\n",
       "</div>"
      ],
      "text/plain": [
       "  Company   Person  Sales\n",
       "0    GOOG      Sam    200\n",
       "1    GOOG  Charlie    120\n",
       "2    MSFT      Amy    340\n",
       "3    MSFT  Vanessa    124\n",
       "4    META     Carl    243\n",
       "5    META    Sarah    350"
      ]
     },
     "execution_count": 62,
     "metadata": {},
     "output_type": "execute_result"
    }
   ],
   "source": [
    "data = {'Company':['GOOG','GOOG','MSFT','MSFT','META','META'],\n",
    "       'Person':['Sam','Charlie','Amy','Vanessa','Carl','Sarah'],\n",
    "       'Sales':[200,120,340,124,243,350]}\n",
    "\n",
    "df = pd.DataFrame(data)\n",
    "df"
   ]
  },
  {
   "cell_type": "markdown",
   "id": "b5a624fa",
   "metadata": {},
   "source": [
    "Agora podemos usar o método .groupby() para agrupar linhas com base no nome de uma coluna. Por exemplo, vamos agrupar com base na Empresa (Company). Isso criará um objeto DataFrameGroupBy."
   ]
  },
  {
   "cell_type": "code",
   "execution_count": 63,
   "id": "5f9647b9",
   "metadata": {},
   "outputs": [
    {
     "data": {
      "text/plain": [
       "<pandas.core.groupby.generic.DataFrameGroupBy object at 0x0000024A017487D0>"
      ]
     },
     "execution_count": 63,
     "metadata": {},
     "output_type": "execute_result"
    }
   ],
   "source": [
    "df.groupby('Company')"
   ]
  },
  {
   "cell_type": "markdown",
   "id": "a027be72",
   "metadata": {},
   "source": [
    "Podemos salvar este objeto numa variável e chamar funções de agregação."
   ]
  },
  {
   "cell_type": "code",
   "execution_count": 64,
   "id": "8acde29d",
   "metadata": {},
   "outputs": [
    {
     "data": {
      "text/html": [
       "<div>\n",
       "<style scoped>\n",
       "    .dataframe tbody tr th:only-of-type {\n",
       "        vertical-align: middle;\n",
       "    }\n",
       "\n",
       "    .dataframe tbody tr th {\n",
       "        vertical-align: top;\n",
       "    }\n",
       "\n",
       "    .dataframe thead th {\n",
       "        text-align: right;\n",
       "    }\n",
       "</style>\n",
       "<table border=\"1\" class=\"dataframe\">\n",
       "  <thead>\n",
       "    <tr style=\"text-align: right;\">\n",
       "      <th></th>\n",
       "      <th>Sales</th>\n",
       "    </tr>\n",
       "    <tr>\n",
       "      <th>Company</th>\n",
       "      <th></th>\n",
       "    </tr>\n",
       "  </thead>\n",
       "  <tbody>\n",
       "    <tr>\n",
       "      <th>GOOG</th>\n",
       "      <td>160.0</td>\n",
       "    </tr>\n",
       "    <tr>\n",
       "      <th>META</th>\n",
       "      <td>296.5</td>\n",
       "    </tr>\n",
       "    <tr>\n",
       "      <th>MSFT</th>\n",
       "      <td>232.0</td>\n",
       "    </tr>\n",
       "  </tbody>\n",
       "</table>\n",
       "</div>"
      ],
      "text/plain": [
       "         Sales\n",
       "Company       \n",
       "GOOG     160.0\n",
       "META     296.5\n",
       "MSFT     232.0"
      ]
     },
     "execution_count": 64,
     "metadata": {},
     "output_type": "execute_result"
    }
   ],
   "source": [
    "by_comp = df.groupby('Company')\n",
    "by_comp[['Sales']].mean()"
   ]
  },
  {
   "cell_type": "markdown",
   "id": "7cad9e39",
   "metadata": {},
   "source": [
    "Colocando tudo numa única linha: vamos agora somar as vendas por empresa."
   ]
  },
  {
   "cell_type": "code",
   "execution_count": 65,
   "id": "80359328",
   "metadata": {},
   "outputs": [
    {
     "data": {
      "text/html": [
       "<div>\n",
       "<style scoped>\n",
       "    .dataframe tbody tr th:only-of-type {\n",
       "        vertical-align: middle;\n",
       "    }\n",
       "\n",
       "    .dataframe tbody tr th {\n",
       "        vertical-align: top;\n",
       "    }\n",
       "\n",
       "    .dataframe thead th {\n",
       "        text-align: right;\n",
       "    }\n",
       "</style>\n",
       "<table border=\"1\" class=\"dataframe\">\n",
       "  <thead>\n",
       "    <tr style=\"text-align: right;\">\n",
       "      <th></th>\n",
       "      <th>Sales</th>\n",
       "    </tr>\n",
       "    <tr>\n",
       "      <th>Company</th>\n",
       "      <th></th>\n",
       "    </tr>\n",
       "  </thead>\n",
       "  <tbody>\n",
       "    <tr>\n",
       "      <th>GOOG</th>\n",
       "      <td>320</td>\n",
       "    </tr>\n",
       "    <tr>\n",
       "      <th>META</th>\n",
       "      <td>593</td>\n",
       "    </tr>\n",
       "    <tr>\n",
       "      <th>MSFT</th>\n",
       "      <td>464</td>\n",
       "    </tr>\n",
       "  </tbody>\n",
       "</table>\n",
       "</div>"
      ],
      "text/plain": [
       "         Sales\n",
       "Company       \n",
       "GOOG       320\n",
       "META       593\n",
       "MSFT       464"
      ]
     },
     "execution_count": 65,
     "metadata": {},
     "output_type": "execute_result"
    }
   ],
   "source": [
    "df.groupby('Company')[['Sales']].sum()\n",
    "\n",
    "# [] = Series, [[]] = dataframe"
   ]
  },
  {
   "cell_type": "markdown",
   "id": "52276edd",
   "metadata": {},
   "source": [
    "Podemos usar um describe num objeto groupby."
   ]
  },
  {
   "cell_type": "code",
   "execution_count": 66,
   "id": "bdb33439",
   "metadata": {},
   "outputs": [
    {
     "data": {
      "text/html": [
       "<div>\n",
       "<style scoped>\n",
       "    .dataframe tbody tr th:only-of-type {\n",
       "        vertical-align: middle;\n",
       "    }\n",
       "\n",
       "    .dataframe tbody tr th {\n",
       "        vertical-align: top;\n",
       "    }\n",
       "\n",
       "    .dataframe thead tr th {\n",
       "        text-align: left;\n",
       "    }\n",
       "\n",
       "    .dataframe thead tr:last-of-type th {\n",
       "        text-align: right;\n",
       "    }\n",
       "</style>\n",
       "<table border=\"1\" class=\"dataframe\">\n",
       "  <thead>\n",
       "    <tr>\n",
       "      <th></th>\n",
       "      <th colspan=\"8\" halign=\"left\">Sales</th>\n",
       "    </tr>\n",
       "    <tr>\n",
       "      <th></th>\n",
       "      <th>count</th>\n",
       "      <th>mean</th>\n",
       "      <th>std</th>\n",
       "      <th>min</th>\n",
       "      <th>25%</th>\n",
       "      <th>50%</th>\n",
       "      <th>75%</th>\n",
       "      <th>max</th>\n",
       "    </tr>\n",
       "    <tr>\n",
       "      <th>Company</th>\n",
       "      <th></th>\n",
       "      <th></th>\n",
       "      <th></th>\n",
       "      <th></th>\n",
       "      <th></th>\n",
       "      <th></th>\n",
       "      <th></th>\n",
       "      <th></th>\n",
       "    </tr>\n",
       "  </thead>\n",
       "  <tbody>\n",
       "    <tr>\n",
       "      <th>GOOG</th>\n",
       "      <td>2.0</td>\n",
       "      <td>160.0</td>\n",
       "      <td>56.568542</td>\n",
       "      <td>120.0</td>\n",
       "      <td>140.00</td>\n",
       "      <td>160.0</td>\n",
       "      <td>180.00</td>\n",
       "      <td>200.0</td>\n",
       "    </tr>\n",
       "    <tr>\n",
       "      <th>META</th>\n",
       "      <td>2.0</td>\n",
       "      <td>296.5</td>\n",
       "      <td>75.660426</td>\n",
       "      <td>243.0</td>\n",
       "      <td>269.75</td>\n",
       "      <td>296.5</td>\n",
       "      <td>323.25</td>\n",
       "      <td>350.0</td>\n",
       "    </tr>\n",
       "    <tr>\n",
       "      <th>MSFT</th>\n",
       "      <td>2.0</td>\n",
       "      <td>232.0</td>\n",
       "      <td>152.735065</td>\n",
       "      <td>124.0</td>\n",
       "      <td>178.00</td>\n",
       "      <td>232.0</td>\n",
       "      <td>286.00</td>\n",
       "      <td>340.0</td>\n",
       "    </tr>\n",
       "  </tbody>\n",
       "</table>\n",
       "</div>"
      ],
      "text/plain": [
       "        Sales                                                        \n",
       "        count   mean         std    min     25%    50%     75%    max\n",
       "Company                                                              \n",
       "GOOG      2.0  160.0   56.568542  120.0  140.00  160.0  180.00  200.0\n",
       "META      2.0  296.5   75.660426  243.0  269.75  296.5  323.25  350.0\n",
       "MSFT      2.0  232.0  152.735065  124.0  178.00  232.0  286.00  340.0"
      ]
     },
     "execution_count": 66,
     "metadata": {},
     "output_type": "execute_result"
    }
   ],
   "source": [
    "df.groupby('Company').describe()"
   ]
  },
  {
   "cell_type": "markdown",
   "id": "6d258209",
   "metadata": {},
   "source": [
    "\n",
    "### Exercícios\n"
   ]
  },
  {
   "cell_type": "markdown",
   "id": "fcabb3c5",
   "metadata": {},
   "source": [
    "1) Considere o dataset 'tips' do seaborn. Use a função groupby para obter o valor médio das contas agrupadas por dia de semana e sexo do(a) pagante. Em seguida, plote um barplot com os resultados."
   ]
  },
  {
   "cell_type": "code",
   "execution_count": 67,
   "id": "888bc781",
   "metadata": {},
   "outputs": [
    {
     "name": "stderr",
     "output_type": "stream",
     "text": [
      "C:\\Users\\sammu\\AppData\\Local\\Temp\\ipykernel_26804\\281545759.py:3: FutureWarning: The default of observed=False is deprecated and will be changed to True in a future version of pandas. Pass observed=False to retain current behavior or observed=True to adopt the future default and silence this warning.\n",
      "  mean_tips = tips.groupby(['day', 'sex'])['total_bill'].mean().reset_index()\n"
     ]
    },
    {
     "data": {
      "text/html": [
       "<div>\n",
       "<style scoped>\n",
       "    .dataframe tbody tr th:only-of-type {\n",
       "        vertical-align: middle;\n",
       "    }\n",
       "\n",
       "    .dataframe tbody tr th {\n",
       "        vertical-align: top;\n",
       "    }\n",
       "\n",
       "    .dataframe thead th {\n",
       "        text-align: right;\n",
       "    }\n",
       "</style>\n",
       "<table border=\"1\" class=\"dataframe\">\n",
       "  <thead>\n",
       "    <tr style=\"text-align: right;\">\n",
       "      <th></th>\n",
       "      <th>day</th>\n",
       "      <th>sex</th>\n",
       "      <th>total_bill</th>\n",
       "    </tr>\n",
       "  </thead>\n",
       "  <tbody>\n",
       "    <tr>\n",
       "      <th>0</th>\n",
       "      <td>Thur</td>\n",
       "      <td>Male</td>\n",
       "      <td>18.714667</td>\n",
       "    </tr>\n",
       "    <tr>\n",
       "      <th>1</th>\n",
       "      <td>Thur</td>\n",
       "      <td>Female</td>\n",
       "      <td>16.715312</td>\n",
       "    </tr>\n",
       "    <tr>\n",
       "      <th>2</th>\n",
       "      <td>Fri</td>\n",
       "      <td>Male</td>\n",
       "      <td>19.857000</td>\n",
       "    </tr>\n",
       "    <tr>\n",
       "      <th>3</th>\n",
       "      <td>Fri</td>\n",
       "      <td>Female</td>\n",
       "      <td>14.145556</td>\n",
       "    </tr>\n",
       "    <tr>\n",
       "      <th>4</th>\n",
       "      <td>Sat</td>\n",
       "      <td>Male</td>\n",
       "      <td>20.802542</td>\n",
       "    </tr>\n",
       "    <tr>\n",
       "      <th>5</th>\n",
       "      <td>Sat</td>\n",
       "      <td>Female</td>\n",
       "      <td>19.680357</td>\n",
       "    </tr>\n",
       "    <tr>\n",
       "      <th>6</th>\n",
       "      <td>Sun</td>\n",
       "      <td>Male</td>\n",
       "      <td>21.887241</td>\n",
       "    </tr>\n",
       "    <tr>\n",
       "      <th>7</th>\n",
       "      <td>Sun</td>\n",
       "      <td>Female</td>\n",
       "      <td>19.872222</td>\n",
       "    </tr>\n",
       "  </tbody>\n",
       "</table>\n",
       "</div>"
      ],
      "text/plain": [
       "    day     sex  total_bill\n",
       "0  Thur    Male   18.714667\n",
       "1  Thur  Female   16.715312\n",
       "2   Fri    Male   19.857000\n",
       "3   Fri  Female   14.145556\n",
       "4   Sat    Male   20.802542\n",
       "5   Sat  Female   19.680357\n",
       "6   Sun    Male   21.887241\n",
       "7   Sun  Female   19.872222"
      ]
     },
     "execution_count": 67,
     "metadata": {},
     "output_type": "execute_result"
    }
   ],
   "source": [
    "tips = sns.load_dataset('tips')\n",
    "\n",
    "mean_tips = tips.groupby(['day', 'sex'])['total_bill'].mean().reset_index()\n",
    "\n",
    "mean_tips"
   ]
  },
  {
   "cell_type": "code",
   "execution_count": null,
   "id": "b0fc72dc",
   "metadata": {},
   "outputs": [
    {
     "data": {
      "image/png": "[encoded data removed]",
      "text/plain": [
       "<Figure size 640x480 with 1 Axes>"
      ]
     },
     "metadata": {},
     "output_type": "display_data"
    },
    {
     "data": {
      "image/png": "[encoded data removed]",
      "text/plain": [
       "<Figure size 800x600 with 1 Axes>"
      ]
     },
     "metadata": {},
     "output_type": "display_data"
    }
   ],
   "source": [
    "plt.close(\"all\")\n",
    "sns.barplot(x='day', y='total_bill', hue='sex', data=mean_tips)\n",
    "\n",
    "plt.figure(figsize=[8, 6])\n",
    "plt.title('Valor médio da conta por dia e sexo')\n",
    "plt.xlabel('Dia da semana')\n",
    "plt.ylabel('Valor médio da conta')\n",
    "plt.show()"
   ]
  },
  {
   "cell_type": "markdown",
   "id": "8231e9d6",
   "metadata": {},
   "source": [
    "2) Considere o dataset 'nobel_prize.csv'. Obtenha o valor em dinheiro corrigido (prizeAmountAdjusted) pago por categoria."
   ]
  },
  {
   "cell_type": "code",
   "execution_count": 69,
   "id": "3d805148",
   "metadata": {},
   "outputs": [
    {
     "data": {
      "text/html": [
       "<div>\n",
       "<style scoped>\n",
       "    .dataframe tbody tr th:only-of-type {\n",
       "        vertical-align: middle;\n",
       "    }\n",
       "\n",
       "    .dataframe tbody tr th {\n",
       "        vertical-align: top;\n",
       "    }\n",
       "\n",
       "    .dataframe thead th {\n",
       "        text-align: right;\n",
       "    }\n",
       "</style>\n",
       "<table border=\"1\" class=\"dataframe\">\n",
       "  <thead>\n",
       "    <tr style=\"text-align: right;\">\n",
       "      <th></th>\n",
       "      <th>awardYear</th>\n",
       "      <th>category</th>\n",
       "      <th>categoryFullName</th>\n",
       "      <th>sortOrder</th>\n",
       "      <th>portion</th>\n",
       "      <th>prizeAmount</th>\n",
       "      <th>prizeAmountAdjusted</th>\n",
       "      <th>dateAwarded</th>\n",
       "      <th>prizeStatus</th>\n",
       "      <th>motivation</th>\n",
       "      <th>...</th>\n",
       "      <th>org_founded_country</th>\n",
       "      <th>org_founded_countryNow</th>\n",
       "      <th>org_founded_locationString</th>\n",
       "      <th>ind_or_org</th>\n",
       "      <th>residence_1</th>\n",
       "      <th>residence_2</th>\n",
       "      <th>affiliation_1</th>\n",
       "      <th>affiliation_2</th>\n",
       "      <th>affiliation_3</th>\n",
       "      <th>affiliation_4</th>\n",
       "    </tr>\n",
       "  </thead>\n",
       "  <tbody>\n",
       "    <tr>\n",
       "      <th>0</th>\n",
       "      <td>2001</td>\n",
       "      <td>Economic Sciences</td>\n",
       "      <td>The Sveriges Riksbank Prize in Economic Scienc...</td>\n",
       "      <td>2</td>\n",
       "      <td>1/3</td>\n",
       "      <td>10000000</td>\n",
       "      <td>12295082</td>\n",
       "      <td>2001-10-10</td>\n",
       "      <td>received</td>\n",
       "      <td>for their analyses of markets with asymmetric ...</td>\n",
       "      <td>...</td>\n",
       "      <td>NaN</td>\n",
       "      <td>NaN</td>\n",
       "      <td>NaN</td>\n",
       "      <td>Individual</td>\n",
       "      <td>NaN</td>\n",
       "      <td>NaN</td>\n",
       "      <td>Stanford University, Stanford, CA, USA</td>\n",
       "      <td>NaN</td>\n",
       "      <td>NaN</td>\n",
       "      <td>NaN</td>\n",
       "    </tr>\n",
       "    <tr>\n",
       "      <th>1</th>\n",
       "      <td>1975</td>\n",
       "      <td>Physics</td>\n",
       "      <td>The Nobel Prize in Physics</td>\n",
       "      <td>1</td>\n",
       "      <td>1/3</td>\n",
       "      <td>630000</td>\n",
       "      <td>3404179</td>\n",
       "      <td>1975-10-17</td>\n",
       "      <td>received</td>\n",
       "      <td>for the discovery of the connection between co...</td>\n",
       "      <td>...</td>\n",
       "      <td>NaN</td>\n",
       "      <td>NaN</td>\n",
       "      <td>NaN</td>\n",
       "      <td>Individual</td>\n",
       "      <td>NaN</td>\n",
       "      <td>NaN</td>\n",
       "      <td>Niels Bohr Institute, Copenhagen, Denmark</td>\n",
       "      <td>NaN</td>\n",
       "      <td>NaN</td>\n",
       "      <td>NaN</td>\n",
       "    </tr>\n",
       "    <tr>\n",
       "      <th>2</th>\n",
       "      <td>2004</td>\n",
       "      <td>Chemistry</td>\n",
       "      <td>The Nobel Prize in Chemistry</td>\n",
       "      <td>1</td>\n",
       "      <td>1/3</td>\n",
       "      <td>10000000</td>\n",
       "      <td>11762861</td>\n",
       "      <td>2004-10-06</td>\n",
       "      <td>received</td>\n",
       "      <td>for the discovery of ubiquitin-mediated protei...</td>\n",
       "      <td>...</td>\n",
       "      <td>NaN</td>\n",
       "      <td>NaN</td>\n",
       "      <td>NaN</td>\n",
       "      <td>Individual</td>\n",
       "      <td>NaN</td>\n",
       "      <td>NaN</td>\n",
       "      <td>Technion - Israel Institute of Technology, Hai...</td>\n",
       "      <td>NaN</td>\n",
       "      <td>NaN</td>\n",
       "      <td>NaN</td>\n",
       "    </tr>\n",
       "    <tr>\n",
       "      <th>3</th>\n",
       "      <td>1982</td>\n",
       "      <td>Chemistry</td>\n",
       "      <td>The Nobel Prize in Chemistry</td>\n",
       "      <td>1</td>\n",
       "      <td>1</td>\n",
       "      <td>1150000</td>\n",
       "      <td>3102518</td>\n",
       "      <td>1982-10-18</td>\n",
       "      <td>received</td>\n",
       "      <td>for his development of crystallographic electr...</td>\n",
       "      <td>...</td>\n",
       "      <td>NaN</td>\n",
       "      <td>NaN</td>\n",
       "      <td>NaN</td>\n",
       "      <td>Individual</td>\n",
       "      <td>NaN</td>\n",
       "      <td>NaN</td>\n",
       "      <td>MRC Laboratory of Molecular Biology, Cambridge...</td>\n",
       "      <td>NaN</td>\n",
       "      <td>NaN</td>\n",
       "      <td>NaN</td>\n",
       "    </tr>\n",
       "    <tr>\n",
       "      <th>4</th>\n",
       "      <td>1979</td>\n",
       "      <td>Physics</td>\n",
       "      <td>The Nobel Prize in Physics</td>\n",
       "      <td>2</td>\n",
       "      <td>1/3</td>\n",
       "      <td>800000</td>\n",
       "      <td>2988048</td>\n",
       "      <td>1979-10-15</td>\n",
       "      <td>received</td>\n",
       "      <td>for their contributions to the theory of the u...</td>\n",
       "      <td>...</td>\n",
       "      <td>NaN</td>\n",
       "      <td>NaN</td>\n",
       "      <td>NaN</td>\n",
       "      <td>Individual</td>\n",
       "      <td>NaN</td>\n",
       "      <td>NaN</td>\n",
       "      <td>International Centre for Theoretical Physics, ...</td>\n",
       "      <td>Imperial College, London, United Kingdom</td>\n",
       "      <td>NaN</td>\n",
       "      <td>NaN</td>\n",
       "    </tr>\n",
       "  </tbody>\n",
       "</table>\n",
       "<p>5 rows × 52 columns</p>\n",
       "</div>"
      ],
      "text/plain": [
       "   awardYear           category  \\\n",
       "0       2001  Economic Sciences   \n",
       "1       1975            Physics   \n",
       "2       2004          Chemistry   \n",
       "3       1982          Chemistry   \n",
       "4       1979            Physics   \n",
       "\n",
       "                                    categoryFullName  sortOrder portion  \\\n",
       "0  The Sveriges Riksbank Prize in Economic Scienc...          2     1/3   \n",
       "1                         The Nobel Prize in Physics          1     1/3   \n",
       "2                       The Nobel Prize in Chemistry          1     1/3   \n",
       "3                       The Nobel Prize in Chemistry          1       1   \n",
       "4                         The Nobel Prize in Physics          2     1/3   \n",
       "\n",
       "   prizeAmount  prizeAmountAdjusted dateAwarded prizeStatus  \\\n",
       "0     10000000             12295082  2001-10-10    received   \n",
       "1       630000              3404179  1975-10-17    received   \n",
       "2     10000000             11762861  2004-10-06    received   \n",
       "3      1150000              3102518  1982-10-18    received   \n",
       "4       800000              2988048  1979-10-15    received   \n",
       "\n",
       "                                          motivation  ... org_founded_country  \\\n",
       "0  for their analyses of markets with asymmetric ...  ...                 NaN   \n",
       "1  for the discovery of the connection between co...  ...                 NaN   \n",
       "2  for the discovery of ubiquitin-mediated protei...  ...                 NaN   \n",
       "3  for his development of crystallographic electr...  ...                 NaN   \n",
       "4  for their contributions to the theory of the u...  ...                 NaN   \n",
       "\n",
       "  org_founded_countryNow  org_founded_locationString  ind_or_org residence_1  \\\n",
       "0                    NaN                         NaN  Individual         NaN   \n",
       "1                    NaN                         NaN  Individual         NaN   \n",
       "2                    NaN                         NaN  Individual         NaN   \n",
       "3                    NaN                         NaN  Individual         NaN   \n",
       "4                    NaN                         NaN  Individual         NaN   \n",
       "\n",
       "  residence_2                                      affiliation_1  \\\n",
       "0         NaN             Stanford University, Stanford, CA, USA   \n",
       "1         NaN          Niels Bohr Institute, Copenhagen, Denmark   \n",
       "2         NaN  Technion - Israel Institute of Technology, Hai...   \n",
       "3         NaN  MRC Laboratory of Molecular Biology, Cambridge...   \n",
       "4         NaN  International Centre for Theoretical Physics, ...   \n",
       "\n",
       "                              affiliation_2 affiliation_3 affiliation_4  \n",
       "0                                       NaN           NaN           NaN  \n",
       "1                                       NaN           NaN           NaN  \n",
       "2                                       NaN           NaN           NaN  \n",
       "3                                       NaN           NaN           NaN  \n",
       "4  Imperial College, London, United Kingdom           NaN           NaN  \n",
       "\n",
       "[5 rows x 52 columns]"
      ]
     },
     "execution_count": 69,
     "metadata": {},
     "output_type": "execute_result"
    }
   ],
   "source": [
    "df = pd.read_csv('nobel_prize.csv')\n",
    "df.head()"
   ]
  },
  {
   "cell_type": "code",
   "execution_count": 70,
   "id": "00eee5ca",
   "metadata": {},
   "outputs": [
    {
     "data": {
      "text/html": [
       "<div>\n",
       "<style scoped>\n",
       "    .dataframe tbody tr th:only-of-type {\n",
       "        vertical-align: middle;\n",
       "    }\n",
       "\n",
       "    .dataframe tbody tr th {\n",
       "        vertical-align: top;\n",
       "    }\n",
       "\n",
       "    .dataframe thead th {\n",
       "        text-align: right;\n",
       "    }\n",
       "</style>\n",
       "<table border=\"1\" class=\"dataframe\">\n",
       "  <thead>\n",
       "    <tr style=\"text-align: right;\">\n",
       "      <th></th>\n",
       "      <th>prizeAmountAdjusted</th>\n",
       "    </tr>\n",
       "    <tr>\n",
       "      <th>category</th>\n",
       "      <th></th>\n",
       "    </tr>\n",
       "  </thead>\n",
       "  <tbody>\n",
       "    <tr>\n",
       "      <th>Chemistry</th>\n",
       "      <td>1151447726</td>\n",
       "    </tr>\n",
       "    <tr>\n",
       "      <th>Economic Sciences</th>\n",
       "      <td>658373449</td>\n",
       "    </tr>\n",
       "    <tr>\n",
       "      <th>Literature</th>\n",
       "      <td>649397731</td>\n",
       "    </tr>\n",
       "    <tr>\n",
       "      <th>Peace</th>\n",
       "      <td>825963521</td>\n",
       "    </tr>\n",
       "    <tr>\n",
       "      <th>Physics</th>\n",
       "      <td>1296526352</td>\n",
       "    </tr>\n",
       "    <tr>\n",
       "      <th>Physiology or Medicine</th>\n",
       "      <td>1256687857</td>\n",
       "    </tr>\n",
       "  </tbody>\n",
       "</table>\n",
       "</div>"
      ],
      "text/plain": [
       "                        prizeAmountAdjusted\n",
       "category                                   \n",
       "Chemistry                        1151447726\n",
       "Economic Sciences                 658373449\n",
       "Literature                        649397731\n",
       "Peace                             825963521\n",
       "Physics                          1296526352\n",
       "Physiology or Medicine           1256687857"
      ]
     },
     "execution_count": 70,
     "metadata": {},
     "output_type": "execute_result"
    }
   ],
   "source": [
    "df.groupby('category')[['prizeAmountAdjusted']].sum()\n"
   ]
  },
  {
   "cell_type": "markdown",
   "id": "39965c78",
   "metadata": {},
   "source": [
    "3) Considere o dataset 'nobel_prize.csv'. Obtenha a quantidade de ganhadores do Prêmio Nobel por continente, em seguida plote um gráfico de barras."
   ]
  },
  {
   "cell_type": "code",
   "execution_count": 71,
   "id": "9cac60dc",
   "metadata": {},
   "outputs": [
    {
     "data": {
      "image/png": "[encoded data removed]",
      "text/plain": [
       "<Figure size 800x600 with 1 Axes>"
      ]
     },
     "metadata": {},
     "output_type": "display_data"
    }
   ],
   "source": [
    "winners_by_continent = df.groupby(['birth_continent'])['familyName'].count() # familyName > just a non-empty field\n",
    "\n",
    "\n",
    "plt.figure(figsize=[8, 6])\n",
    "winners_by_continent.plot(kind='bar')\n",
    "\n",
    "plt.title('Ganhadores do Prêmio Nobel por continente')\n",
    "plt.xlabel('Continente')\n",
    "plt.ylabel('Número de ganhadores')\n",
    "plt.show()"
   ]
  }
 ],
 "metadata": {
  "kernelspec": {
   "display_name": "base",
   "language": "python",
   "name": "python3"
  },
  "language_info": {
   "codemirror_mode": {
    "name": "ipython",
    "version": 3
   },
   "file_extension": ".py",
   "mimetype": "text/x-python",
   "name": "python",
   "nbconvert_exporter": "python",
   "pygments_lexer": "ipython3",
   "version": "3.13.5"
  }
 },
 "nbformat": 4,
 "nbformat_minor": 5
}
